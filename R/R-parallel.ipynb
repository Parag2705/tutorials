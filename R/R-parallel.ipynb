{
 "cells": [
  {
   "cell_type": "markdown",
   "metadata": {},
   "source": [
    "# Running Parallel Jobs on JupyterHub in R\n",
    "Author: Zach Schira\n",
    "\n",
    "[JupyterHub](https://jupyterhub.readthedocs.io/en/latest/) offers a multi user environment for running Jupyter Notebooks. Research Computing provides access to a JupyterHub environment with parallel processing support. This tutorial will demonstrate how to use the [parallel](https://stat.ethz.ch/R-manual/R-devel/library/parallel/doc/parallel.pdf) R package to run simple parallel jobs within the R kernel on JupyterHub. "
   ]
  },
  {
   "cell_type": "markdown",
   "metadata": {
    "collapsed": true
   },
   "source": [
    "## Objectives\n",
    "- Connect to a remote cluster for parallel processing\n",
    "- Use the parallel package to run jobs\n",
    "\n",
    "## Dependencies\n",
    "- parallel\n",
    "\n",
    "## Using parallel\n",
    "First you must connect to a cluster where you will be doing your parallel processing. In this example, we will just be using the cores available on your local machine, but if you are running your job through JupyterHub, you can use any of the RC resources described [here](https://www.rc.colorado.edu/support/user-guide/jupyterhub.html)."
   ]
  },
  {
   "cell_type": "code",
   "execution_count": 1,
   "metadata": {
    "collapsed": true
   },
   "outputs": [],
   "source": [
    "library(parallel)\n",
    "num_cores <- detectCores()\n",
    "cl <- makeCluster(num_cores)"
   ]
  },
  {
   "cell_type": "markdown",
   "metadata": {},
   "source": [
    "The parallel package contains functions that mirror the base R [lapply](http://www.inside-r.org/r-doc/base/sapply) function. The following example will calculate the square of each number from 1-28 in parallel."
   ]
  },
  {
   "cell_type": "code",
   "execution_count": 2,
   "metadata": {
    "collapsed": false
   },
   "outputs": [
    {
     "data": {
      "text/html": [
       "<ol class=list-inline>\n",
       "\t<li>1</li>\n",
       "\t<li>4</li>\n",
       "\t<li>9</li>\n",
       "\t<li>16</li>\n",
       "\t<li>25</li>\n",
       "\t<li>36</li>\n",
       "\t<li>49</li>\n",
       "\t<li>64</li>\n",
       "\t<li>81</li>\n",
       "\t<li>100</li>\n",
       "\t<li>121</li>\n",
       "\t<li>144</li>\n",
       "\t<li>169</li>\n",
       "\t<li>196</li>\n",
       "\t<li>225</li>\n",
       "\t<li>256</li>\n",
       "\t<li>289</li>\n",
       "\t<li>324</li>\n",
       "\t<li>361</li>\n",
       "\t<li>400</li>\n",
       "\t<li>441</li>\n",
       "\t<li>484</li>\n",
       "\t<li>529</li>\n",
       "\t<li>576</li>\n",
       "\t<li>625</li>\n",
       "\t<li>676</li>\n",
       "\t<li>729</li>\n",
       "\t<li>784</li>\n",
       "</ol>\n"
      ],
      "text/latex": [
       "\\begin{enumerate*}\n",
       "\\item 1\n",
       "\\item 4\n",
       "\\item 9\n",
       "\\item 16\n",
       "\\item 25\n",
       "\\item 36\n",
       "\\item 49\n",
       "\\item 64\n",
       "\\item 81\n",
       "\\item 100\n",
       "\\item 121\n",
       "\\item 144\n",
       "\\item 169\n",
       "\\item 196\n",
       "\\item 225\n",
       "\\item 256\n",
       "\\item 289\n",
       "\\item 324\n",
       "\\item 361\n",
       "\\item 400\n",
       "\\item 441\n",
       "\\item 484\n",
       "\\item 529\n",
       "\\item 576\n",
       "\\item 625\n",
       "\\item 676\n",
       "\\item 729\n",
       "\\item 784\n",
       "\\end{enumerate*}\n"
      ],
      "text/markdown": [
       "1. 1\n",
       "2. 4\n",
       "3. 9\n",
       "4. 16\n",
       "5. 25\n",
       "6. 36\n",
       "7. 49\n",
       "8. 64\n",
       "9. 81\n",
       "10. 100\n",
       "11. 121\n",
       "12. 144\n",
       "13. 169\n",
       "14. 196\n",
       "15. 225\n",
       "16. 256\n",
       "17. 289\n",
       "18. 324\n",
       "19. 361\n",
       "20. 400\n",
       "21. 441\n",
       "22. 484\n",
       "23. 529\n",
       "24. 576\n",
       "25. 625\n",
       "26. 676\n",
       "27. 729\n",
       "28. 784\n",
       "\n",
       "\n"
      ],
      "text/plain": [
       " [1]   1   4   9  16  25  36  49  64  81 100 121 144 169 196 225 256 289 324 361\n",
       "[20] 400 441 484 529 576 625 676 729 784"
      ]
     },
     "metadata": {},
     "output_type": "display_data"
    }
   ],
   "source": [
    "parSapply(cl, 1:28, function(base)\n",
    "    base^2)"
   ]
  },
  {
   "cell_type": "markdown",
   "metadata": {},
   "source": [
    "This same basic approach can be used for more complicated functions from external libraries, but you will need to make a few considerations to ensure everything runs properly. The `clusterEvalQ` function is used include external libraries, and `clusterExport` will allow you to use variables that you have defined outside of your parallel call. Note that if you change a variable after you call `clusterExport`, that change will not be reflected in your parallel computations. `invisible` is used on the first line of this example to hide the output, because `clusterEvalQ` will list the libraries being loaded in its output."
   ]
  },
  {
   "cell_type": "code",
   "execution_count": 3,
   "metadata": {
    "collapsed": false
   },
   "outputs": [
    {
     "data": {
      "text/html": [
       "<ol class=list-inline>\n",
       "\t<li>27.0724618866404</li>\n",
       "\t<li>29.2047292278493</li>\n",
       "\t<li>27.5836684745821</li>\n",
       "\t<li>27.7514166057383</li>\n",
       "</ol>\n"
      ],
      "text/latex": [
       "\\begin{enumerate*}\n",
       "\\item 27.0724618866404\n",
       "\\item 29.2047292278493\n",
       "\\item 27.5836684745821\n",
       "\\item 27.7514166057383\n",
       "\\end{enumerate*}\n"
      ],
      "text/markdown": [
       "1. 27.0724618866404\n",
       "2. 29.2047292278493\n",
       "3. 27.5836684745821\n",
       "4. 27.7514166057383\n",
       "\n",
       "\n"
      ],
      "text/plain": [
       "[1] 27.07246 29.20473 27.58367 27.75142"
      ]
     },
     "metadata": {},
     "output_type": "display_data"
    }
   ],
   "source": [
    "#include stats library for the sd function\n",
    "invisible(clusterEvalQ(cl, library(stats)))\n",
    "#list containing 4 vectors of 100 randomly generated numbers between 0-100\n",
    "x <- list(runif(100,0,100), runif(100,0,100), runif(100,0,100), runif(100,0,100))\n",
    "clusterExport(cl, \"x\")\n",
    "parSapply(cl, x, sd)"
   ]
  },
  {
   "cell_type": "markdown",
   "metadata": {},
   "source": [
    "You can also use functions that you have defined yourself. These will be treated just like a variable. This example defines a function called `calc_avg`, then uses that function in `parSapply`."
   ]
  },
  {
   "cell_type": "code",
   "execution_count": 4,
   "metadata": {
    "collapsed": false
   },
   "outputs": [
    {
     "data": {
      "text/html": [
       "<ol class=list-inline>\n",
       "\t<li>50.1302827289328</li>\n",
       "\t<li>51.5249284724705</li>\n",
       "\t<li>49.6160388861317</li>\n",
       "\t<li>51.111113486113</li>\n",
       "</ol>\n"
      ],
      "text/latex": [
       "\\begin{enumerate*}\n",
       "\\item 50.1302827289328\n",
       "\\item 51.5249284724705\n",
       "\\item 49.6160388861317\n",
       "\\item 51.111113486113\n",
       "\\end{enumerate*}\n"
      ],
      "text/markdown": [
       "1. 50.1302827289328\n",
       "2. 51.5249284724705\n",
       "3. 49.6160388861317\n",
       "4. 51.111113486113\n",
       "\n",
       "\n"
      ],
      "text/plain": [
       "[1] 50.13028 51.52493 49.61604 51.11111"
      ]
     },
     "metadata": {},
     "output_type": "display_data"
    }
   ],
   "source": [
    "calc_avg <- function(vec) {\n",
    "    avg <- sum(vec)/length(vec)\n",
    "    avg\n",
    "}\n",
    "clusterExport(cl, \"calc_avg\")\n",
    "parSapply(cl, x, calc_avg)"
   ]
  },
  {
   "cell_type": "markdown",
   "metadata": {},
   "source": [
    "Once you have finished your work, you will want to free the resources you have been using. This is simply done with the `stopCluster` function."
   ]
  },
  {
   "cell_type": "code",
   "execution_count": 5,
   "metadata": {
    "collapsed": true
   },
   "outputs": [],
   "source": [
    "stopCluster(cl)"
   ]
  }
 ],
 "metadata": {
  "kernelspec": {
   "display_name": "R",
   "language": "R",
   "name": "ir"
  },
  "language_info": {
   "codemirror_mode": "r",
   "file_extension": ".r",
   "mimetype": "text/x-r-source",
   "name": "R",
   "pygments_lexer": "r",
   "version": "3.3.0"
  }
 },
 "nbformat": 4,
 "nbformat_minor": 0
}
