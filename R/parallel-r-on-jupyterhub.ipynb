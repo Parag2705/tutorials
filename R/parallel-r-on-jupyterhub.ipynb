{
 "cells": [
  {
   "cell_type": "markdown",
   "metadata": {},
   "source": [
    "# Running Parallel Jobs on JupyterHub in R\n",
    "Author: Zach Schira\n",
    "\n",
    "[JupyterHub](https://jupyterhub.readthedocs.io/en/latest/) offers a multi user environment for running Jupyter Notebooks. Research Computing provides access to a JupyterHub environment with parallel processing support. This tutorial will demonstrate how to use the [parallel](https://stat.ethz.ch/R-manual/R-devel/library/parallel/doc/parallel.pdf) R package to run simple parallel jobs within the R kernel on JupyterHub. "
   ]
  },
  {
   "cell_type": "markdown",
   "metadata": {
    "collapsed": true
   },
   "source": [
    "## Objectives\n",
    "\n",
    "- Connect to a remote cluster for parallel processing\n",
    "- Use the parallel package to run jobs\n",
    "\n",
    "## Dependencies\n",
    "\n",
    "- parallel\n",
    "\n",
    "## Setup and basic use\n",
    "\n",
    "First you must connect to a cluster where you will be doing your parallel processing. In this example, we will just be using the cores available on your local machine, but if you are running your job through JupyterHub, you can use any of the RC resources described [here](https://www.rc.colorado.edu/support/user-guide/jupyterhub.html)."
   ]
  },
  {
   "cell_type": "code",
   "execution_count": 1,
   "metadata": {
    "collapsed": true
   },
   "outputs": [],
   "source": [
    "options(jupyter.plot_mimetypes = 'image/png')\n",
    "options(jupyter.rich_display=FALSE)\n",
    "\n",
    "library(parallel)\n",
    "\n",
    "num_cores <- detectCores()\n",
    "cl <- makeCluster(num_cores)"
   ]
  },
  {
   "cell_type": "markdown",
   "metadata": {},
   "source": [
    "The parallel package contains functions that mirror the base R [lapply](http://www.inside-r.org/r-doc/base/sapply) function. The following example will calculate the square of each number in a sequence in parallel."
   ]
  },
  {
   "cell_type": "code",
   "execution_count": 2,
   "metadata": {
    "collapsed": false
   },
   "outputs": [
    {
     "data": {
      "text/plain": [
       " [1]   1   4   9  16  25  36  49  64  81 100"
      ]
     },
     "metadata": {},
     "output_type": "display_data"
    }
   ],
   "source": [
    "square <- function(x) {\n",
    "    x^2\n",
    "}\n",
    "parSapply(cl, 1:10, square)"
   ]
  },
  {
   "cell_type": "markdown",
   "metadata": {},
   "source": [
    "## Evaluating expressions in parallel with `clusterEvalQ`\n",
    "\n",
    "The `clusterEvalQ` function can be used include R packages into each node of your cluster. \n",
    "More generally, `clusterEvalQ` evaluates expressions within each node.\n",
    "For instance, let's say you wanted to simulate draws from a negative binomial distribution using the `rnegbin` function in the `MASS` package. \n",
    "To make the function available to each node, `clusterEvalQ` evaluates the expression `library(MASS)` on each node:"
   ]
  },
  {
   "cell_type": "code",
   "execution_count": 3,
   "metadata": {
    "collapsed": false
   },
   "outputs": [
    {
     "data": {
      "text/plain": [
       "[[1]]\n",
       "[1] \"MASS\"      \"stats\"     \"graphics\"  \"grDevices\" \"utils\"     \"datasets\" \n",
       "[7] \"methods\"   \"base\"     \n",
       "\n",
       "[[2]]\n",
       "[1] \"MASS\"      \"stats\"     \"graphics\"  \"grDevices\" \"utils\"     \"datasets\" \n",
       "[7] \"methods\"   \"base\"     \n",
       "\n",
       "[[3]]\n",
       "[1] \"MASS\"      \"stats\"     \"graphics\"  \"grDevices\" \"utils\"     \"datasets\" \n",
       "[7] \"methods\"   \"base\"     \n",
       "\n",
       "[[4]]\n",
       "[1] \"MASS\"      \"stats\"     \"graphics\"  \"grDevices\" \"utils\"     \"datasets\" \n",
       "[7] \"methods\"   \"base\"     \n"
      ]
     },
     "metadata": {},
     "output_type": "display_data"
    }
   ],
   "source": [
    "clusterEvalQ(cl, library(MASS))"
   ]
  },
  {
   "cell_type": "markdown",
   "metadata": {},
   "source": [
    "A list is printed with one element per node, showing the packages that are loaded.\n",
    "\n",
    "While `clusterEvalQ` evaluates literal expressions on each node, `clusterExport` can export objects to the global environment of each node. For instance, if we want to have each node generate 1000 samples from a negative binomial distribution, we can do the following:"
   ]
  },
  {
   "cell_type": "code",
   "execution_count": 4,
   "metadata": {
    "collapsed": false
   },
   "outputs": [
    {
     "name": "stdout",
     "output_type": "stream",
     "text": [
      "List of 4\n",
      " $ : int [1:1000] 0 0 0 0 3 0 1 1 8 0 ...\n",
      " $ : int [1:1000] 0 5 0 1 0 9 1 1 5 1 ...\n",
      " $ : int [1:1000] 1 0 0 0 3 0 2 0 1 11 ...\n",
      " $ : int [1:1000] 0 1 0 0 0 1 2 0 0 7 ...\n"
     ]
    }
   ],
   "source": [
    "nb_draws <- clusterEvalQ(cl, rnegbin(n = 1000, mu = 2, theta = .3))\n",
    "str(nb_draws)"
   ]
  },
  {
   "cell_type": "markdown",
   "metadata": {},
   "source": [
    "Now we have draws from a negative binomial distribution for each node. \n",
    "Let's visualize the cumulative distribution function (CDF) for each of the samples."
   ]
  },
  {
   "cell_type": "code",
   "execution_count": 5,
   "metadata": {
    "collapsed": false
   },
   "outputs": [
    {
     "data": {
      "image/png": "[encoded data removed]"
     },
     "metadata": {},
     "output_type": "display_data"
    }
   ],
   "source": [
    "plot(ecdf(nb_draws[[1]]), main = 'CDF: negative binomial samples')\n",
    "for (i in 2:num_cores){\n",
    "    plot(ecdf(nb_draws[[i]]), add = TRUE, col = i)\n",
    "}\n",
    "core_seq <- 1:num_cores\n",
    "legend('right', col = core_seq, \n",
    "      legend = paste('Node', core_seq), \n",
    "      pch = 19, bty = 'n')"
   ]
  },
  {
   "cell_type": "markdown",
   "metadata": {},
   "source": [
    "## Parallel versions of `lapply` and `sapply` with built-in and custom functions\n",
    "\n",
    "If we have a list of values, we can apply functions to the elements of the list in parallel using `parSapply` or `parLapply`. \n",
    "With our list `nb_draws`, we can calculate a sample means for each set of draws by applying the `mean` function over the list of simulations. "
   ]
  },
  {
   "cell_type": "code",
   "execution_count": 6,
   "metadata": {
    "collapsed": false
   },
   "outputs": [
    {
     "data": {
      "text/plain": [
       "[1] 2.082 1.825 2.120 2.085"
      ]
     },
     "metadata": {},
     "output_type": "display_data"
    }
   ],
   "source": [
    "parSapply(cl, nb_draws, mean)"
   ]
  },
  {
   "cell_type": "markdown",
   "metadata": {},
   "source": [
    "Let's compare the time it takes to do these operations 10000 times in serial vs. in parallel. In this case, we're calling a user defined function `get_nb_mean`."
   ]
  },
  {
   "cell_type": "code",
   "execution_count": 7,
   "metadata": {
    "collapsed": false
   },
   "outputs": [
    {
     "data": {
      "text/plain": [
       "   user  system elapsed \n",
       "  2.089   0.020   2.120 "
      ]
     },
     "metadata": {},
     "output_type": "display_data"
    },
    {
     "data": {
      "text/plain": [
       "   user  system elapsed \n",
       "  0.006   0.001   0.567 "
      ]
     },
     "metadata": {},
     "output_type": "display_data"
    }
   ],
   "source": [
    "get_nb_mean <- function(i = NULL, pars) {\n",
    "    # i is a dummy argument\n",
    "    \n",
    "    # unroll parameters\n",
    "    n <- pars[1] \n",
    "    mu <- pars[2]\n",
    "    theta <- pars[3]\n",
    "    \n",
    "    # draw a sample and compute the mean\n",
    "    x <- MASS::rnegbin(n, mu, theta)\n",
    "    mean(x)\n",
    "}\n",
    "\n",
    "n_replicates <- 10000\n",
    "pars <- c(n = 1000, mu = 2, theta = .3)\n",
    "\n",
    "# serially\n",
    "system.time({\n",
    "  serial_vals <- replicate(n_replicates, get_nb_mean(pars = pars))  \n",
    "})\n",
    "\n",
    "# in parallel\n",
    "system.time({\n",
    "    par_vals <- parSapply(cl, 1:n_replicates, get_nb_mean, pars = pars)    \n",
    "})"
   ]
  },
  {
   "cell_type": "markdown",
   "metadata": {},
   "source": [
    "With four cores working in parallel, these operations are about 3.5 times faster! (Though we might expect 4x speed improvements, there is overhead associated with the parallel operations that prevents a full 4x speedup).\n",
    "\n",
    "Note that in our custom function, we specified a dummy argument `i` which is never used inside of the function definition. \n",
    "This is still useful however as a means for implementing a parallel version of the `replicate` function, because we can apply our function over a vector of integer values (in this case `1:n_replicates`), but the value of `i` has no effect on the output of `get_nb_mean()`.\n",
    "For large iterative simulations applied over clusters, the [`iterators`](https://cran.r-project.org/web/packages/iterators/index.html) package can also be used. \n",
    "\n",
    "Once you have finished, run the `stopCluster` function to free up resources."
   ]
  },
  {
   "cell_type": "code",
   "execution_count": 8,
   "metadata": {
    "collapsed": true
   },
   "outputs": [],
   "source": [
    "stopCluster(cl)"
   ]
  }
 ],
 "metadata": {
  "anaconda-cloud": {},
  "kernelspec": {
   "display_name": "R",
   "language": "R",
   "name": "ir"
  },
  "language_info": {
   "codemirror_mode": "r",
   "file_extension": ".r",
   "mimetype": "text/x-r-source",
   "name": "R",
   "pygments_lexer": "r",
   "version": "3.3.0"
  }
 },
 "nbformat": 4,
 "nbformat_minor": 0
}
