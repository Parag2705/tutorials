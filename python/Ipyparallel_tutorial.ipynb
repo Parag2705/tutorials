{
 "cells": [
  {
   "cell_type": "markdown",
   "metadata": {},
   "source": [
    "# Running Parallel Jobs on JupyterHub with ipyparallel\n",
    "Author: Zach Schira\n",
    "\n",
    "[JupyterHub](https://jupyterhub.readthedocs.io/en/latest/) offers a multi user environment for running Jupyter Notebooks. Research Computing provides access to a JupyterHub environment with parallel processing support. This tutorial will demonstrate how to use the [ipyparallel](https://ipyparallel.readthedocs.io/en/latest/multiengine.html#) python package to run simple parallel jobs on JupyterHub."
   ]
  },
  {
   "cell_type": "markdown",
   "metadata": {},
   "source": [
    "## Objectives\n",
    "- Connect to a remote cluster for parallel processing\n",
    "- Use ipyparallel to run parallel jobs \n",
    "\n",
    "## Dependencies\n",
    "- ipyparallel\n",
    "\n",
    "## Using ipyparallel\n",
    "Begin by installing the ipyparallel package"
   ]
  },
  {
   "cell_type": "code",
   "execution_count": null,
   "metadata": {
    "collapsed": false
   },
   "outputs": [],
   "source": [
    "!pip install ipyparallel"
   ]
  },
  {
   "cell_type": "markdown",
   "metadata": {},
   "source": [
    "You will need to specify the cluster you will be running on, and connect to that cluster. For this example, we will be starting a client with 4 engines using the `$ ipcluster` command. Information on the clusters available through JupyterHub can be found [here](https://www.rc.colorado.edu/support/user-guide/jupyterhub.html). The "
   ]
  },
  {
   "cell_type": "code",
   "execution_count": 1,
   "metadata": {
    "collapsed": false
   },
   "outputs": [
    {
     "name": "stderr",
     "output_type": "stream",
     "text": [
      "2016-07-08 11:46:24.158 [IPClusterStart] CRITICAL | Cluster is already running with [pid=7580]. use \"ipcluster stop\" to stop the cluster.\n"
     ]
    }
   ],
   "source": [
    "!ipcluster start -n 4"
   ]
  },
  {
   "cell_type": "code",
   "execution_count": 2,
   "metadata": {
    "collapsed": false,
    "scrolled": false
   },
   "outputs": [],
   "source": [
    "from ipyparallel import Client\n",
    "cluster = Client()\n",
    "c = cluster[:]"
   ]
  },
  {
   "cell_type": "markdown",
   "metadata": {},
   "source": [
    "Now that you have created a connection to a cluster, you can start to run simple parallel jobs. The following code will calculate the square of each number from 1-28 and print the results."
   ]
  },
  {
   "cell_type": "code",
   "execution_count": 3,
   "metadata": {
    "collapsed": false
   },
   "outputs": [
    {
     "name": "stdout",
     "output_type": "stream",
     "text": [
      "squares: [1, 4, 9, 16, 25, 36, 49, 64, 81, 100, 121, 144, 169, 196, 225, 256, 289, 324, 361, 400, 441, 484, 529, 576, 625, 676, 729]\n"
     ]
    }
   ],
   "source": [
    "squares = c.map_sync(lambda x: x**2, range(1,28))\n",
    "print('squares:',squares)"
   ]
  },
  {
   "cell_type": "markdown",
   "metadata": {},
   "source": [
    "There are several methods for running functions in parallel using ipyparallel. The easiest way to do this is using the `apply_sync()` method within the ipyparallel class. The following function will take two matricies and return the result of their multiplaction. By using the `apply_sync()` function with the name of the function to be executed as the first argument, and the functions arguments as the remaining arguments, the matrix multiplication will be performed in parallel on the connected cluster. This can be done with any python functions, including built in functions."
   ]
  },
  {
   "cell_type": "code",
   "execution_count": 4,
   "metadata": {
    "collapsed": false
   },
   "outputs": [],
   "source": [
    "import numpy as np\n",
    "y = np.random.randn(50,50)\n",
    "x = np.matrix(y)\n",
    "def matmul(x, y):\n",
    "    return x*y\n",
    "res = c.apply_sync(matmul, x, x)"
   ]
  },
  {
   "cell_type": "markdown",
   "metadata": {},
   "source": [
    "If you are creating a function with element-wise operations (perorm one opperation on every element of an array), you can use the `@parallel` tag to break the function up and process it in parallel."
   ]
  },
  {
   "cell_type": "code",
   "execution_count": 5,
   "metadata": {
    "collapsed": false
   },
   "outputs": [],
   "source": [
    "@c.parallel(block=True)\n",
    "def arrmul(x,y):\n",
    "    return x*y\n",
    "res = arrmul(y, y)"
   ]
  },
  {
   "cell_type": "markdown",
   "metadata": {},
   "source": [
    "When you have finished using the clusters, it is important to free the resources you have been using. For this example, this can be done using the `$ ipcluster` command again. If you are running your job in JupyterHub you can find more information on the rescources available, and how to use them [here](https://www.rc.colorado.edu/support/examples-and-tutorials/parallel-processing-with-jupyterhub.html)."
   ]
  },
  {
   "cell_type": "code",
   "execution_count": 6,
   "metadata": {
    "collapsed": false
   },
   "outputs": [
    {
     "name": "stderr",
     "output_type": "stream",
     "text": [
      "2016-07-08 11:46:32.410 [IPClusterStop] Removing pid file: C:\\Users\\Zach\\.ipython\\profile_default\\pid\\ipcluster.pid\n"
     ]
    }
   ],
   "source": [
    "!ipcluster stop"
   ]
  }
 ],
 "metadata": {
  "kernelspec": {
   "display_name": "Python 3",
   "language": "python",
   "name": "python3"
  },
  "language_info": {
   "codemirror_mode": {
    "name": "ipython",
    "version": 3
   },
   "file_extension": ".py",
   "mimetype": "text/x-python",
   "name": "python",
   "nbconvert_exporter": "python",
   "pygments_lexer": "ipython3",
   "version": "3.5.1"
  }
 },
 "nbformat": 4,
 "nbformat_minor": 0
}
