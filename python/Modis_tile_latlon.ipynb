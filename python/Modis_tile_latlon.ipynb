{
 "cells": [
  {
   "cell_type": "markdown",
   "metadata": {},
   "source": [
    "# Get Modis sinusoidal tile grid positions from latitude and longitude coordinates in Python\n",
    "\n",
    "Author: Zach Schira\n",
    "\n",
    "Many Modis data products are organized in a [sinusoidal tile grid](http://modis-land.gsfc.nasa.gov/MODLAND_grid.html) based on a sinusoidal projection. You can find an online calculator [here](http://landweb.nascom.nasa.gov/cgi-bin/developer/tilemap.cgi), that will convert from tiles to latitude and longitude coordinates. This tutorial will demonstrate how to perform this conversion in Python.\n",
    "\n",
    "## Objectives\n",
    "\n",
    "- Read in Modis tile bounding coordinates\n",
    "- Define point with given latitude and longitude coordinates\n",
    "- Find corresponding tile\n",
    "\n",
    "## Dependencies\n",
    "\n",
    "- numpy"
   ]
  },
  {
   "cell_type": "code",
   "execution_count": 1,
   "metadata": {
    "collapsed": true
   },
   "outputs": [],
   "source": [
    "import numpy as np"
   ]
  },
  {
   "cell_type": "markdown",
   "metadata": {},
   "source": [
    "Modis provides a text file containing the range of latitude and longitude coordinates for each tile. We will load this data into a numpy two dimensional array. Next, we will define the coordinates of the point we would like to convert."
   ]
  },
  {
   "cell_type": "code",
   "execution_count": 2,
   "metadata": {
    "collapsed": false
   },
   "outputs": [],
   "source": [
    "data = np.loadtxt('../data/SinusoidalGrid.txt')\n",
    "lat = 40.015\n",
    "lon = -105.2705"
   ]
  },
  {
   "cell_type": "markdown",
   "metadata": {},
   "source": [
    "Now we can loop through each row (corresponds to one tile) in the array and check to see if our point is contained in the range of coordinates for that tile."
   ]
  },
  {
   "cell_type": "code",
   "execution_count": 3,
   "metadata": {
    "collapsed": true
   },
   "outputs": [],
   "source": [
    "in_tile = False\n",
    "i = 0\n",
    "while(not in_tile):\n",
    "    in_tile = lat >= data[i, 4] and lat <= data[i, 5] and lon >= data[i, 2] and lon <= data[i, 3]\n",
    "    i += 1"
   ]
  },
  {
   "cell_type": "markdown",
   "metadata": {},
   "source": [
    "Once you reach a tile including the point you are searching for the code will exit the loop, and you can print the vertical and horizontal position of the tile."
   ]
  },
  {
   "cell_type": "code",
   "execution_count": 4,
   "metadata": {
    "collapsed": false
   },
   "outputs": [
    {
     "name": "stdout",
     "output_type": "stream",
     "text": [
      "Vertical Tile: 4.0 Horizontal Tile: 9.0\n"
     ]
    }
   ],
   "source": [
    "vert = data[i-1, 0]\n",
    "horiz = data[i-1, 1]\n",
    "print('Vertical Tile:', vert, 'Horizontal Tile:', horiz)"
   ]
  }
 ],
 "metadata": {
  "kernelspec": {
   "display_name": "Python 3",
   "language": "python",
   "name": "python3"
  },
  "language_info": {
   "codemirror_mode": {
    "name": "ipython",
    "version": 3
   },
   "file_extension": ".py",
   "mimetype": "text/x-python",
   "name": "python",
   "nbconvert_exporter": "python",
   "pygments_lexer": "ipython3",
   "version": "3.5.1"
  }
 },
 "nbformat": 4,
 "nbformat_minor": 0
}
