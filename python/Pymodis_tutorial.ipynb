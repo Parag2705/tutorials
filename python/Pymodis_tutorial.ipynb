{
 "cells": [
  {
   "cell_type": "markdown",
   "metadata": {},
   "source": [
    "# Pymodis Tutorial\n",
    "Author: Zach Schira \n",
    "\n",
    "The [pyModis](http://webcache.googleusercontent.com/search?q=cache:http://www.pymodis.org/_static/pyModis.pdf#27) python package allows for easy programmatic access to [Modis](http://modis.gsfc.nasa.gov/) data. This tutorial will demonstrate how to acquire specific modis data products using pymodis.\n"
   ]
  },
  {
   "cell_type": "markdown",
   "metadata": {},
   "source": [
    "## Objectives\n",
    "- Use pymodis to search for desired product\n",
    "- Download data\n",
    " \n",
    "## Dependencies\n",
    "- pymodis\n",
    "- numpy\n",
    "- gdal\n",
    "- os\n",
    "- glob"
   ]
  },
  {
   "cell_type": "markdown",
   "metadata": {},
   "source": [
    "To install pymodis you will need to clone the github repo, which can be found [here](https://github.com/lucadelu/pyModis). Once you have cloned pymodis, you will want to navigate into the repo on your local machine using the command line. Next you will want to run the setup.py script with the following command."
   ]
  },
  {
   "cell_type": "code",
   "execution_count": null,
   "metadata": {
    "collapsed": true
   },
   "outputs": [],
   "source": [
    "!python setup.py install"
   ]
  },
  {
   "cell_type": "markdown",
   "metadata": {},
   "source": [
    "Now that pymodis is installed, you can import the `downmodis` module. Do not worry if you get a warning reading `WxPython missing, no GUI enabled`. This is only needed for the pymodis GUI, which we will not be using."
   ]
  },
  {
   "cell_type": "code",
   "execution_count": 1,
   "metadata": {
    "collapsed": false
   },
   "outputs": [
    {
     "name": "stdout",
     "output_type": "stream",
     "text": [
      "WxPython missing, no GUI enabled\n"
     ]
    }
   ],
   "source": [
    "from pymodis import downmodis\n",
    "import os\n",
    "import glob"
   ]
  },
  {
   "cell_type": "markdown",
   "metadata": {},
   "source": [
    "First we will set some parameters that will be used by the `downModis` class. Important parameters to include are the destination, the start date, how many days you would like to download, the product, and the tiles (specifies location of data). For more information on the Modis grid look [here](http://modis-land.gsfc.nasa.gov/MODLAND_grid.html). Note that using delta to specify the number of days can be counterintuitive, because it counts backwards from the start date.\n",
    " \n",
    "We will be using the default [http server](http://e4ftl01.cr.usgs.gov), with the default path, `MOLT/`, for this data. This server has recently been updated to require an earthdata account, so you will need to follow this [link](https://urs.earthdata.nasa.gov/users/new), and create your own account. Once you have done this, replace the username and password in the following section of code (the ones provided will not work). If you are looking for Modis data that is not available on this server you can provide your own url, as well as a path to the data. Note that using a different server can become difficult if the directories on the server you are using are organized in a way pymodis does not recognize."
   ]
  },
  {
   "cell_type": "code",
   "execution_count": 2,
   "metadata": {
    "collapsed": false
   },
   "outputs": [],
   "source": [
    "dest = \"/temp\"\n",
    "#Create temp directory to store data\n",
    "if(not os.path.exists(dest)):\n",
    "    os.makedirs(dest)\n",
    "\n",
    "tiles = \"h17v04,h18v04\"\n",
    "product = \"MOD14A1.005\"\n",
    "day = \"2016-07-11\"\n",
    "# number of days to download\n",
    "delta = 1\n",
    "user = 'username'\n",
    "password = '1234'"
   ]
  },
  {
   "cell_type": "markdown",
   "metadata": {},
   "source": [
    "Now we can can create a `downmodis` object using these given parameters."
   ]
  },
  {
   "cell_type": "code",
   "execution_count": 3,
   "metadata": {
    "collapsed": false
   },
   "outputs": [],
   "source": [
    "modis = downmodis.downModis(destinationFolder=dest, product=product, tiles=tiles, delta=delta, user=user, password=password)\n",
    "modis.connect()"
   ]
  },
  {
   "cell_type": "markdown",
   "metadata": {},
   "source": [
    "This next command will download the data for every day you have specified."
   ]
  },
  {
   "cell_type": "code",
   "execution_count": 4,
   "metadata": {
    "collapsed": false
   },
   "outputs": [],
   "source": [
    "modis.getListDays()\n",
    "modis.downloadsAllDay()"
   ]
  },
  {
   "cell_type": "markdown",
   "metadata": {},
   "source": [
    "Now we will collect all of the downloaded hdf files using `glob`, and print the file names."
   ]
  },
  {
   "cell_type": "code",
   "execution_count": 5,
   "metadata": {
    "collapsed": false
   },
   "outputs": [
    {
     "name": "stdout",
     "output_type": "stream",
     "text": [
      "['/temp\\\\MOD14A1.A2016225.h17v04.005.2016234234423.hdf', '/temp\\\\MOD14A1.A2016225.h18v04.005.2016234234429.hdf']\n"
     ]
    }
   ],
   "source": [
    "files = glob.glob(os.path.join(dest, '*.hdf'))\n",
    "print(files)"
   ]
  }
 ],
 "metadata": {
  "anaconda-cloud": {},
  "kernelspec": {
   "display_name": "Python [Root]",
   "language": "python",
   "name": "Python [Root]"
  },
  "language_info": {
   "codemirror_mode": {
    "name": "ipython",
    "version": 3
   },
   "file_extension": ".py",
   "mimetype": "text/x-python",
   "name": "python",
   "nbconvert_exporter": "python",
   "pygments_lexer": "ipython3",
   "version": "3.5.2"
  }
 },
 "nbformat": 4,
 "nbformat_minor": 0
}
