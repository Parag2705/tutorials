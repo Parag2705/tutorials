{
 "cells": [
  {
   "cell_type": "markdown",
   "metadata": {},
   "source": [
    "# Using R and Python in the Same Notebook\n",
    "Author: Matt Oakley\n",
    "\n",
    "## About\n",
    "\n",
    "Two of the most fundamental languages that Earth Lab uses in order to retrieve, analyze, and manipulate data are R and Python. While these two languages are both individually viable and powerful, sometimes it may be necessary to use the two in conjunction.\n",
    "\n",
    "Unfortunately, it is not possible to use both of these languages at the same time within a Jupyter notebook due to the fact that Jupyter notebooks can only run one kernel (or language) per notebook. However, we're able to accomplish this via library-level support. The Python package *rpy2* allows us to interact with an R interpreter in-memory as opposed to running an entirely separate kernel. This tutorial will go over how to use rpy2 which in turn will allow us to use these two languages simultaneously.\n",
    "\n",
    "## Objectives\n",
    "\n",
    "- Use Python\n",
    "- Use R within the Python kernel\n",
    "\n",
    "## Dependencies\n",
    "\n",
    "- Install of Python and R\n",
    "- rpy2"
   ]
  },
  {
   "cell_type": "code",
   "execution_count": 1,
   "metadata": {
    "collapsed": false
   },
   "outputs": [
    {
     "name": "stdout",
     "output_type": "stream",
     "text": [
      "Requirement already satisfied (use --upgrade to upgrade): rpy2 in /home/user/anaconda2/lib/python2.7/site-packages\r\n",
      "Requirement already satisfied (use --upgrade to upgrade): singledispatch in /home/user/anaconda2/lib/python2.7/site-packages (from rpy2)\r\n",
      "Requirement already satisfied (use --upgrade to upgrade): six in /home/user/anaconda2/lib/python2.7/site-packages (from rpy2)\r\n"
     ]
    }
   ],
   "source": [
    "!pip install rpy2"
   ]
  },
  {
   "cell_type": "code",
   "execution_count": 2,
   "metadata": {
    "collapsed": false
   },
   "outputs": [],
   "source": [
    "from rpy2.robjects import r"
   ]
  },
  {
   "cell_type": "markdown",
   "metadata": {},
   "source": [
    "## Using Python\n",
    "\n",
    "As this is natively a Python kernel, we should be able to do all of the Python programming we want."
   ]
  },
  {
   "cell_type": "code",
   "execution_count": 3,
   "metadata": {
    "collapsed": false
   },
   "outputs": [
    {
     "name": "stdout",
     "output_type": "stream",
     "text": [
      "Hello World!\n"
     ]
    }
   ],
   "source": [
    "print \"Hello World!\""
   ]
  },
  {
   "cell_type": "code",
   "execution_count": 4,
   "metadata": {
    "collapsed": false
   },
   "outputs": [
    {
     "name": "stdout",
     "output_type": "stream",
     "text": [
      "This is python!\n"
     ]
    }
   ],
   "source": [
    "str_list = ['This', 'is', 'python!']\n",
    "for i in range(0, len(str_list)):\n",
    "    print str_list[i],"
   ]
  },
  {
   "cell_type": "code",
   "execution_count": 5,
   "metadata": {
    "collapsed": false
   },
   "outputs": [
    {
     "name": "stdout",
     "output_type": "stream",
     "text": [
      "I've been called 1 times!\n",
      "I've been called 2 times!\n",
      "I've been called 3 times!\n",
      "I've been called 4 times!\n",
      "I've been called 5 times!\n"
     ]
    }
   ],
   "source": [
    "def my_function(i):\n",
    "    print \"I've been called\", i + 1, \"times!\"\n",
    "\n",
    "for i in range(0, 5):\n",
    "    my_function(i)"
   ]
  },
  {
   "cell_type": "markdown",
   "metadata": {},
   "source": [
    "## Using R within Python\n",
    "\n",
    "As we've just shown, we can do all of our normal python programming without any hiccups. Now, let's try and do some R programming within this Python kernel."
   ]
  },
  {
   "cell_type": "code",
   "execution_count": 6,
   "metadata": {
    "collapsed": false
   },
   "outputs": [
    {
     "name": "stdout",
     "output_type": "stream",
     "text": [
      "[1] \"Hello World!\"\n"
     ]
    },
    {
     "data": {
      "text/plain": [
       "R object with classes: ('character',) mapped to:\n",
       "<StrVector - Python:0x7f3552edc128 / R:0x3a8e8e8>\n",
       "[str]"
      ]
     },
     "execution_count": 6,
     "metadata": {},
     "output_type": "execute_result"
    }
   ],
   "source": [
    "r('print(\"Hello World!\")')"
   ]
  },
  {
   "cell_type": "code",
   "execution_count": 7,
   "metadata": {
    "collapsed": false
   },
   "outputs": [
    {
     "name": "stdout",
     "output_type": "stream",
     "text": [
      "[1] \"This\"\n",
      "[1] \"is\"\n",
      "[1] \"R!\"\n"
     ]
    },
    {
     "data": {
      "text/plain": [
       "rpy2.rinterface.NULL"
      ]
     },
     "execution_count": 7,
     "metadata": {},
     "output_type": "execute_result"
    }
   ],
   "source": [
    "r('str_list <- c(\"This\", \"is\", \"R!\")')\n",
    "r('for (i in 1:length(str_list)){print(str_list[i])}')"
   ]
  },
  {
   "cell_type": "code",
   "execution_count": 8,
   "metadata": {
    "collapsed": false
   },
   "outputs": [
    {
     "name": "stdout",
     "output_type": "stream",
     "text": [
      "I've been called 1 times!\n",
      "I've been called 2 times!\n",
      "I've been called 3 times!\n",
      "I've been called 4 times!\n",
      "I've been called 5 times!\n"
     ]
    },
    {
     "data": {
      "text/plain": [
       "rpy2.rinterface.NULL"
      ]
     },
     "execution_count": 8,
     "metadata": {},
     "output_type": "execute_result"
    }
   ],
   "source": [
    "r('''\n",
    "    my_function <- function(i){\n",
    "        cat(\"I've been called\", i, \"times!\\n\")\n",
    "    }''')\n",
    "r('for (i in 1:5) {my_function(i)}')"
   ]
  },
  {
   "cell_type": "code",
   "execution_count": null,
   "metadata": {
    "collapsed": true
   },
   "outputs": [],
   "source": []
  }
 ],
 "metadata": {
  "kernelspec": {
   "display_name": "Python 2",
   "language": "python",
   "name": "python2"
  },
  "language_info": {
   "codemirror_mode": {
    "name": "ipython",
    "version": 2
   },
   "file_extension": ".py",
   "mimetype": "text/x-python",
   "name": "python",
   "nbconvert_exporter": "python",
   "pygments_lexer": "ipython2",
   "version": "2.7.11"
  }
 },
 "nbformat": 4,
 "nbformat_minor": 0
}
