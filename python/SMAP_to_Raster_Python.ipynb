{
 "cells": [
  {
   "cell_type": "markdown",
   "metadata": {},
   "source": [
    "# SMAP to Raster Tutorial with Python\n",
    "## About\n",
    "    Currently, Earth Lab is receiving data called 'SMAP data' which is provided in .h5 format. This file format is considered to be \"hierarchical\" consisting of a multitude of groups and datasets (further explained in Step 2) which are extremely useful in storing and organizing large amounts of data. While this organization is great for the large amount of data being collected, we don't necessarily want to deal with all of the data and may only want to utilize a single dataset within the file. Therefore, it'd be useful to have something that can grab the specific data we want from the file, transform it into a more useable format, and create something (a Raster) which can help display the data we specified.\n",
    "    \n",
    "## Objectives\n",
    "    1) Read in SMAP data file (in .h5 format)\n",
    "    2) Extract specified data\n",
    "    3) Create a raster object with respect to this data"
   ]
  },
  {
   "cell_type": "code",
   "execution_count": 1,
   "metadata": {
    "collapsed": false
   },
   "outputs": [
    {
     "name": "stdout",
     "output_type": "stream",
     "text": [
      "Requirement already satisfied (use --upgrade to upgrade): h5py in c:\\users\\matto_000\\anaconda2\\lib\\site-packages\n",
      "Requirement already satisfied (use --upgrade to upgrade): numpy>=1.6.1 in c:\\users\\matto_000\\anaconda2\\lib\\site-packages (from h5py)\n",
      "Requirement already satisfied (use --upgrade to upgrade): six in c:\\users\\matto_000\\anaconda2\\lib\\site-packages (from h5py)\n",
      "Requirement already satisfied (use --upgrade to upgrade): gdal==1.11.2 in c:\\users\\matto_000\\anaconda2\\lib\\site-packages\n",
      "Requirement already up-to-date: numpy in c:\\users\\matto_000\\anaconda2\\lib\\site-packages\n"
     ]
    }
   ],
   "source": [
    "#Install the h5py, gdal, and numpy packages\n",
    "#Note: Ensure you already have python and pip installed on your system\n",
    "!pip install h5py\n",
    "!pip install gdal==1.11.2\n",
    "!pip install numpy -U"
   ]
  },
  {
   "cell_type": "markdown",
   "metadata": {},
   "source": [
    "# Step 1: Getting our data\n",
    "NOTE: While the Python script is a relatively small file and will download quickly, the h5 file is NOT small and will take a few minutes to fully download. You'll know this download is completed when the asterisk in the 'In' parameter has become a numeric value and there is output below the cell."
   ]
  },
  {
   "cell_type": "code",
   "execution_count": 2,
   "metadata": {
    "collapsed": false
   },
   "outputs": [
    {
     "name": "stdout",
     "output_type": "stream",
     "text": [
      "2.7.11 |Anaconda 2.4.1 (64-bit)| (default, Feb 16 2016, 09:58:36) [MSC v.1500 64 bit (AMD64)]\n",
      "----------------------------------------------------------------------------------------------\n"
     ]
    },
    {
     "data": {
      "text/plain": [
       "'221-You have transferred 139218579 bytes in 1 files.\\n221-Total traffic for this session was 139219589 bytes in 1 transfers.\\n221-Thank you for using the FTP service on ftphost.\\n221 Goodbye.'"
      ]
     },
     "execution_count": 2,
     "metadata": {},
     "output_type": "execute_result"
    }
   ],
   "source": [
    "import urllib\n",
    "import ftplib\n",
    "import sys\n",
    "\n",
    "#Useful information about the system being used\n",
    "print(sys.version)\n",
    "print '----------------------------------------------------------------------------------------------'\n",
    "\n",
    "#Download of python helper script which will be used later\n",
    "pythonfileDL = urllib.URLopener()\n",
    "pythonfileDL.retrieve('https://svn.osgeo.org/gdal/trunk/gdal/swig/python/scripts/gdal_merge.py',\n",
    "                  'gdal_merge.py')\n",
    "\n",
    "#Download of SMAP data in .h5 format\n",
    "ftp = ftplib.FTP(\"n5eil01u.ecs.nsidc.org\")\n",
    "ftp.login()\n",
    "\n",
    "path = \"SAN/SMAP/SPL4SMGP.001/2015.03.31/\"\n",
    "ftp.cwd(path)\n",
    "\n",
    "filename = \"SMAP_L4_SM_gph_20150331T013000_Vb1010_001.h5\"\n",
    "ftp.retrbinary(\"RETR \" + filename, open(filename, \"wb\"). write)\n",
    "\n",
    "ftp.quit()"
   ]
  },
  {
   "cell_type": "markdown",
   "metadata": {},
   "source": [
    "# Step 2: Viewing our data\n",
    "It's going to be necessary for us to see what the data we're trying to work with consists of\n",
    "\n",
    "SMAP files (in .h5 format) consist of 'Groups' and 'Datasets'\n",
    "\n",
    "Datasets are multidimensional arrays of a homogenous type\n",
    "\n",
    "Groups are a container structure which hold numerous datasets"
   ]
  },
  {
   "cell_type": "code",
   "execution_count": 3,
   "metadata": {
    "collapsed": false
   },
   "outputs": [
    {
     "name": "stdout",
     "output_type": "stream",
     "text": [
      "[u'surface_pressure' u'heat_flux_ground' u'land_fraction_wilting'\n",
      " u'soil_temp_layer5' u'sm_rootzone' u'radiation_longwave_absorbed_flux'\n",
      " u'specific_humidity_lowatmmodlay' u'surface_temp' u'temp_lowatmmodlay'\n",
      " u'net_downward_longwave_flux' u'snow_mass'\n",
      " u'precipitation_total_surface_flux' u'sm_surface_wetness'\n",
      " u'sm_profile_wetness' u'snow_depth' u'height_lowatmmodlay'\n",
      " u'baseflow_flux' u'sm_profile_pctl' u'land_fraction_saturated'\n",
      " u'snowfall_surface_flux' u'land_fraction_unsaturated'\n",
      " u'sm_rootzone_wetness' u'leaf_area_index'\n",
      " u'radiation_shortwave_downward_flux' u'sm_surface' u'soil_temp_layer1'\n",
      " u'heat_flux_sensible' u'soil_temp_layer4' u'soil_temp_layer6'\n",
      " u'land_fraction_snow_covered' u'land_evapotranspiration_flux'\n",
      " u'vegetation_greenness_fraction' u'sm_profile' u'soil_temp_layer3'\n",
      " u'overland_runoff_flux' u'snow_melt_flux' u'heat_flux_latent'\n",
      " u'soil_water_infiltration_flux' u'windspeed_lowatmmodlay'\n",
      " u'sm_rootzone_pctl' u'net_downward_shortwave_flux' u'soil_temp_layer2']\n"
     ]
    }
   ],
   "source": [
    "#This block of code will print our all of the datasets within a specific group within our SMAP file\n",
    "#Let's say we have a group called 'Geophysical_Data' that we wish to inspect\n",
    "\n",
    "import h5py\n",
    "import numpy as np\n",
    "\n",
    "h5file = h5py.File('SMAP_L4_SM_gph_20150331T013000_Vb1010_001.h5', 'r') #Replace <Filename> with the name of your h5 file\n",
    "group = h5file.get('Geophysical_Data') #Replace Geophysical_Data with the name of the group you want to inspect\n",
    "datasets = np.array(group)\n",
    "print datasets"
   ]
  },
  {
   "cell_type": "markdown",
   "metadata": {},
   "source": [
    "# Step 3: Using our data to create a Raster\n",
    "Now that we've decided which group(s) and dataset(s) we wish to use we need to create a Raster object from the data"
   ]
  },
  {
   "cell_type": "code",
   "execution_count": 4,
   "metadata": {
    "collapsed": false
   },
   "outputs": [],
   "source": [
    "import h5py\n",
    "from osgeo import gdal\n",
    "from osgeo import gdal_array\n",
    "from osgeo import osr\n",
    "import numpy as np\n",
    "\n",
    "#Helper function which handles the conversion from SMAP data to a Raster object\n",
    "#Function input:  inputFile: SMAP data file\n",
    "#                 group: The groupt containing the dataset we want to pull data from\n",
    "#                 dataset: Which specific dataset we want to pull data from\n",
    "#Function output: A raster image in .tif format consisting of the data we specified in the input\n",
    "def smap2raster(inputFile, group, dataset):\n",
    "    \n",
    "    #Read in the SMAP file in h5 format\n",
    "    h5File = h5py.File(inputFile, 'r')\n",
    "    \n",
    "    #Get the data from the specific group/dataset\n",
    "    data = h5File.get(group + '/' + dataset)\n",
    "    lat = h5File.get('cell_lat')\n",
    "    lon = h5File.get('cell_lon')\n",
    "    \n",
    "    #Convert this data into numpy arrays\n",
    "    np_data = np.array(data)\n",
    "    np_lat = np.array(lat)\n",
    "    np_lon = np.array(lon)\n",
    "    \n",
    "    #Get the spatial extents of the data\n",
    "    num_cols = float(np_data.shape[1])\n",
    "    num_rows = float(np_data.shape[0])\n",
    "    xmin = np_lon.min()\n",
    "    xmax = np_lon.max()\n",
    "    ymin = np_lat.min()\n",
    "    ymax = np_lat.max()\n",
    "    xres = (xmax - xmin)/num_cols\n",
    "    yres = (ymax - ymin)/num_rows\n",
    "    \n",
    "    #Set up the transformation necessary to create the raster\n",
    "    geotransform = (xmin, xres, 0, ymax, 0, -yres)\n",
    "    \n",
    "    #Create the raster object with the proper coordinate encoding and geographic transformation\n",
    "    driver = gdal.GetDriverByName('GTiff')\n",
    "    raster = driver.Create(dataset+'Raster.tif', int(num_cols), int(num_rows), 1, gdal.GDT_Float32)\n",
    "    raster.SetGeoTransform(geotransform)\n",
    "    srs = osr.SpatialReference()\n",
    "    srs.ImportFromEPSG(4326)\n",
    "    \n",
    "    #Export and write the data array to the raster\n",
    "    raster.SetProjection( srs.ExportToWkt() )\n",
    "    raster.GetRasterBand(1).WriteArray(np_data)\n",
    "    h5File.close()\n",
    "\n",
    "#Create an array of the datasets we want to use\n",
    "#Replace 'snow_mass' and 'snow_depth' with the datasets you want to use\n",
    "datasets = ['sm_surface_wetness', 'soil_temp_layer2']\n",
    "\n",
    "#Loop through the datasets and create individual rasters from them\n",
    "for i in range(0, len(datasets)):\n",
    "    smap2raster('SMAP_L4_SM_gph_20150331T013000_Vb1010_001.h5', 'Geophysical_Data', datasets[i])"
   ]
  },
  {
   "cell_type": "markdown",
   "metadata": {},
   "source": [
    "# Step 4: Creating a Raster Stack\n",
    "After running the above code, you've now created individual raster images (.tif files); the number of which depends on the amount of datasets you used\n",
    "\n",
    "Now that we have these individual rasters, we want to merge or \"stack\" them on top of each other\n",
    "\n",
    "Fortunately, gdal has a python script which accomplishes just this\n",
    "\n",
    "The result of running this will be a new .tif file called out.tif which is the merging or 'stacking' of the 2 rasters we created in Step 2"
   ]
  },
  {
   "cell_type": "code",
   "execution_count": 5,
   "metadata": {
    "collapsed": true
   },
   "outputs": [],
   "source": [
    "%run gdal_merge.py sm_surface_wetnessRaster.tif soil_temp_layer2Raster.tif"
   ]
  }
 ],
 "metadata": {
  "kernelspec": {
   "display_name": "Python 2",
   "language": "python",
   "name": "python2"
  },
  "language_info": {
   "codemirror_mode": {
    "name": "ipython",
    "version": 2
   },
   "file_extension": ".py",
   "mimetype": "text/x-python",
   "name": "python",
   "nbconvert_exporter": "python",
   "pygments_lexer": "ipython2",
   "version": "2.7.11"
  }
 },
 "nbformat": 4,
 "nbformat_minor": 0
}
