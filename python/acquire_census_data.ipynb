{
 "cells": [
  {
   "cell_type": "markdown",
   "metadata": {},
   "source": [
    "# Cenpy Tutorial \n",
    "Author: Zach Schira"
   ]
  },
  {
   "cell_type": "markdown",
   "metadata": {
    "collapsed": true
   },
   "source": [
    "## About \n",
    "There are several useful online sources for accessing census data provided both by the US census Bureau ([American Factfinder](http://factfinder.census.gov)), and outside sources. These sources, however, are not conducive to large scale data aquisition and analysis. The [Cenpy](https://pypi.python.org/pypi/cenpy/0.9.1) python package allows for programmitic access of this data through the [Census Bureau's API](http://www.census.gov/data/developers/data-sets.html).\n",
    "\n",
    "This tutorial outlines the use of the Cenpy package to search for, and acquire specific census data. Cenpy saves this data as a [Pandas](http://pandas.pydata.org/) dataframe. These dataframes allow for easy access and analysis of data within python. For easy visualization of this data look into the [GeoPandas](http://geopandas.org/) package. This package builds on the base Pandas package to add tools for geospatial data analysis.\n",
    "\n",
    "## Objectives\n",
    "- Install Cenpy package\n",
    "- Search for desired census data\n",
    "- Download and store data\n",
    "\n",
    "## Dependencies \n",
    "The Cenpy package depends on pandas and [requests](http://docs.python-requests.org/en/master/). Ensure that python and pip are already properly installed then use the following commands to install cenpy."
   ]
  },
  {
   "cell_type": "code",
   "execution_count": null,
   "metadata": {
    "collapsed": false,
    "scrolled": true
   },
   "outputs": [],
   "source": [
    "!pip install pandas\n",
    "!pip install requests\n",
    "!pip install cenpy"
   ]
  },
  {
   "cell_type": "code",
   "execution_count": 1,
   "metadata": {
    "collapsed": false
   },
   "outputs": [],
   "source": [
    "import pandas as pd\n",
    "import cenpy as cen"
   ]
  },
  {
   "cell_type": "markdown",
   "metadata": {},
   "source": [
    "## Finding Data\n",
    "The cenpy explorer module allows you to view all of the available [Census API's](http://www.census.gov/data/developers/data-sets.html). Passing the name of a specific API to `explorer.explain()` will give a description of the data available.\n",
    "\n",
    "For this example, we will use the 2012 [American Community Service](https://www.census.gov/programs-surveys/acs/) 1 year data (`2012acs1`)."
   ]
  },
  {
   "cell_type": "code",
   "execution_count": 2,
   "metadata": {
    "collapsed": false,
    "scrolled": true
   },
   "outputs": [
    {
     "name": "stdout",
     "output_type": "stream",
     "text": [
      "Number of datasets:  125\n"
     ]
    },
    {
     "data": {
      "text/plain": [
       "{'2012 American Community Survey: 1-Year Estimates': \"The American Community Survey (ACS) is a nationwide survey designed to provide communities a fresh look at how they are changing. The ACS replaced the decennial census long form in 2010 and thereafter by collecting long form type information throughout the decade rather than only once every 10 years.  Questionnaires are mailed to a sample of addresses to obtain information about households -- that is, about each person and the housing unit itself.  The American Community Survey produces demographic, social, housing and economic estimates in the form of 1-year, 3-year and 5-year estimates based on population thresholds. The strength of the ACS is in estimating population and housing characteristics. It produces estimates for small areas, including census tracts and population subgroups.  Although the ACS produces population, demographic and housing unit estimates,it is the Census Bureau's Population Estimates Program that produces and disseminates the official estimates of the population for the nation, states, counties, cities and towns, and estimates of housing units for states and counties.  For 2010 and other decennial census years, the Decennial Census provides the official counts of population and housing units.\"}"
      ]
     },
     "execution_count": 2,
     "metadata": {},
     "output_type": "execute_result"
    }
   ],
   "source": [
    "datasets = list(cen.explorer.available(verbose=True).items())\n",
    "print('Number of datasets: ', len(datasets))\n",
    "#for i in range(0,len(datasets)):\n",
    "#    print(datasets[i][0],': ',datasets[i][1])\n",
    "dataset = '2012acs1'\n",
    "cen.explorer.explain(dataset)"
   ]
  },
  {
   "cell_type": "markdown",
   "metadata": {},
   "source": [
    "The base module allows you to establish a connection with the desired api that will be used later to acquire data"
   ]
  },
  {
   "cell_type": "code",
   "execution_count": 3,
   "metadata": {
    "collapsed": false
   },
   "outputs": [
    {
     "data": {
      "text/plain": [
       "Connection to 2012 American Community Survey: 1-Year Estimates (ID: http://api.census.gov/data/id/2012acs1)"
      ]
     },
     "execution_count": 3,
     "metadata": {},
     "output_type": "execute_result"
    }
   ],
   "source": [
    "con = cen.base.Connection(dataset)\n",
    "con"
   ]
  },
  {
   "cell_type": "markdown",
   "metadata": {},
   "source": [
    "## Getting Data\n",
    "### Geography\n",
    "Cenpy uses [fips codes](https://www.census.gov/geo/reference/codes/cou.html) to specify the geographical extent of the data to be downloaded."
   ]
  },
  {
   "cell_type": "code",
   "execution_count": 4,
   "metadata": {
    "collapsed": false
   },
   "outputs": [
    {
     "data": {
      "text/plain": [
       "dict_keys(['fips'])"
      ]
     },
     "execution_count": 4,
     "metadata": {},
     "output_type": "execute_result"
    }
   ],
   "source": [
    "con.geographies.keys()"
   ]
  },
  {
   "cell_type": "code",
   "execution_count": 5,
   "metadata": {
    "collapsed": false
   },
   "outputs": [
    {
     "data": {
      "text/html": [
       "<div>\n",
       "<table border=\"1\" class=\"dataframe\">\n",
       "  <thead>\n",
       "    <tr style=\"text-align: right;\">\n",
       "      <th></th>\n",
       "      <th>geoLevelId</th>\n",
       "      <th>name</th>\n",
       "      <th>optionalWithWCFor</th>\n",
       "      <th>requires</th>\n",
       "    </tr>\n",
       "  </thead>\n",
       "  <tbody>\n",
       "    <tr>\n",
       "      <th>0</th>\n",
       "      <td>500</td>\n",
       "      <td>congressional district</td>\n",
       "      <td>state</td>\n",
       "      <td>[state]</td>\n",
       "    </tr>\n",
       "    <tr>\n",
       "      <th>1</th>\n",
       "      <td>060</td>\n",
       "      <td>county subdivision</td>\n",
       "      <td>NaN</td>\n",
       "      <td>[state, county]</td>\n",
       "    </tr>\n",
       "    <tr>\n",
       "      <th>2</th>\n",
       "      <td>795</td>\n",
       "      <td>public use microdata area</td>\n",
       "      <td>NaN</td>\n",
       "      <td>[state]</td>\n",
       "    </tr>\n",
       "    <tr>\n",
       "      <th>3</th>\n",
       "      <td>320</td>\n",
       "      <td>metropolitan statistical area/micropolitan sta...</td>\n",
       "      <td>NaN</td>\n",
       "      <td>[state]</td>\n",
       "    </tr>\n",
       "    <tr>\n",
       "      <th>4</th>\n",
       "      <td>310</td>\n",
       "      <td>metropolitan statistical area/micropolitan sta...</td>\n",
       "      <td>NaN</td>\n",
       "      <td>NaN</td>\n",
       "    </tr>\n",
       "    <tr>\n",
       "      <th>5</th>\n",
       "      <td>160</td>\n",
       "      <td>place</td>\n",
       "      <td>state</td>\n",
       "      <td>[state]</td>\n",
       "    </tr>\n",
       "    <tr>\n",
       "      <th>6</th>\n",
       "      <td>050</td>\n",
       "      <td>county</td>\n",
       "      <td>state</td>\n",
       "      <td>[state]</td>\n",
       "    </tr>\n",
       "    <tr>\n",
       "      <th>7</th>\n",
       "      <td>NaN</td>\n",
       "      <td>combined statistical area</td>\n",
       "      <td>NaN</td>\n",
       "      <td>NaN</td>\n",
       "    </tr>\n",
       "    <tr>\n",
       "      <th>8</th>\n",
       "      <td>NaN</td>\n",
       "      <td>combined new england city and town area</td>\n",
       "      <td>NaN</td>\n",
       "      <td>NaN</td>\n",
       "    </tr>\n",
       "    <tr>\n",
       "      <th>9</th>\n",
       "      <td>NaN</td>\n",
       "      <td>new england city and town area</td>\n",
       "      <td>NaN</td>\n",
       "      <td>NaN</td>\n",
       "    </tr>\n",
       "    <tr>\n",
       "      <th>10</th>\n",
       "      <td>NaN</td>\n",
       "      <td>alaska native regional corporation</td>\n",
       "      <td>NaN</td>\n",
       "      <td>[state]</td>\n",
       "    </tr>\n",
       "    <tr>\n",
       "      <th>11</th>\n",
       "      <td>NaN</td>\n",
       "      <td>division</td>\n",
       "      <td>NaN</td>\n",
       "      <td>NaN</td>\n",
       "    </tr>\n",
       "    <tr>\n",
       "      <th>12</th>\n",
       "      <td>NaN</td>\n",
       "      <td>region</td>\n",
       "      <td>NaN</td>\n",
       "      <td>NaN</td>\n",
       "    </tr>\n",
       "    <tr>\n",
       "      <th>13</th>\n",
       "      <td>250</td>\n",
       "      <td>american indian area/alaska native area/hawaii...</td>\n",
       "      <td>NaN</td>\n",
       "      <td>NaN</td>\n",
       "    </tr>\n",
       "    <tr>\n",
       "      <th>14</th>\n",
       "      <td>NaN</td>\n",
       "      <td>school district (secondary)</td>\n",
       "      <td>NaN</td>\n",
       "      <td>[state]</td>\n",
       "    </tr>\n",
       "    <tr>\n",
       "      <th>15</th>\n",
       "      <td>NaN</td>\n",
       "      <td>school district (unified)</td>\n",
       "      <td>NaN</td>\n",
       "      <td>[state]</td>\n",
       "    </tr>\n",
       "    <tr>\n",
       "      <th>16</th>\n",
       "      <td>NaN</td>\n",
       "      <td>school district (elementary)</td>\n",
       "      <td>NaN</td>\n",
       "      <td>[state]</td>\n",
       "    </tr>\n",
       "    <tr>\n",
       "      <th>17</th>\n",
       "      <td>510</td>\n",
       "      <td>county</td>\n",
       "      <td>NaN</td>\n",
       "      <td>[state, congressional district]</td>\n",
       "    </tr>\n",
       "    <tr>\n",
       "      <th>18</th>\n",
       "      <td>NaN</td>\n",
       "      <td>state</td>\n",
       "      <td>NaN</td>\n",
       "      <td>NaN</td>\n",
       "    </tr>\n",
       "    <tr>\n",
       "      <th>19</th>\n",
       "      <td>010</td>\n",
       "      <td>us</td>\n",
       "      <td>NaN</td>\n",
       "      <td>NaN</td>\n",
       "    </tr>\n",
       "    <tr>\n",
       "      <th>20</th>\n",
       "      <td>400</td>\n",
       "      <td>urban area</td>\n",
       "      <td>NaN</td>\n",
       "      <td>NaN</td>\n",
       "    </tr>\n",
       "  </tbody>\n",
       "</table>\n",
       "</div>"
      ],
      "text/plain": [
       "   geoLevelId                                               name  \\\n",
       "0         500                             congressional district   \n",
       "1         060                                 county subdivision   \n",
       "2         795                          public use microdata area   \n",
       "3         320  metropolitan statistical area/micropolitan sta...   \n",
       "4         310  metropolitan statistical area/micropolitan sta...   \n",
       "5         160                                              place   \n",
       "6         050                                             county   \n",
       "7         NaN                          combined statistical area   \n",
       "8         NaN            combined new england city and town area   \n",
       "9         NaN                     new england city and town area   \n",
       "10        NaN                 alaska native regional corporation   \n",
       "11        NaN                                           division   \n",
       "12        NaN                                             region   \n",
       "13        250  american indian area/alaska native area/hawaii...   \n",
       "14        NaN                        school district (secondary)   \n",
       "15        NaN                          school district (unified)   \n",
       "16        NaN                       school district (elementary)   \n",
       "17        510                                             county   \n",
       "18        NaN                                              state   \n",
       "19        010                                                 us   \n",
       "20        400                                         urban area   \n",
       "\n",
       "   optionalWithWCFor                         requires  \n",
       "0              state                          [state]  \n",
       "1                NaN                  [state, county]  \n",
       "2                NaN                          [state]  \n",
       "3                NaN                          [state]  \n",
       "4                NaN                              NaN  \n",
       "5              state                          [state]  \n",
       "6              state                          [state]  \n",
       "7                NaN                              NaN  \n",
       "8                NaN                              NaN  \n",
       "9                NaN                              NaN  \n",
       "10               NaN                          [state]  \n",
       "11               NaN                              NaN  \n",
       "12               NaN                              NaN  \n",
       "13               NaN                              NaN  \n",
       "14               NaN                          [state]  \n",
       "15               NaN                          [state]  \n",
       "16               NaN                          [state]  \n",
       "17               NaN  [state, congressional district]  \n",
       "18               NaN                              NaN  \n",
       "19               NaN                              NaN  \n",
       "20               NaN                              NaN  "
      ]
     },
     "execution_count": 5,
     "metadata": {},
     "output_type": "execute_result"
    }
   ],
   "source": [
    "con.geographies['fips']"
   ]
  },
  {
   "cell_type": "markdown",
   "metadata": {},
   "source": [
    "`geo_unit` and `geo_filter` are both necessary arguments for the `query()` function. `geo_unit` specifies the scale at which data should be taken. `geo_filter` then creates a filter to ensure too much data is not downloaded. The following example will download data from all counties in Colorado."
   ]
  },
  {
   "cell_type": "code",
   "execution_count": 6,
   "metadata": {
    "collapsed": true
   },
   "outputs": [],
   "source": [
    "g_unit = 'county:*'\n",
    "g_filter = {'state':'8'}"
   ]
  },
  {
   "cell_type": "markdown",
   "metadata": {},
   "source": [
    "### Variables\n",
    "The other argument taken by `query()` is cols. This is a list of columns taken from the variables of the API. These variables can be displayed using the `variables` function, however, due to the number of variables it is easier to use the [Social Explorer](https://www.socialexplorer.com/) site to find data you are interested in."
   ]
  },
  {
   "cell_type": "code",
   "execution_count": 7,
   "metadata": {
    "collapsed": false
   },
   "outputs": [
    {
     "name": "stdout",
     "output_type": "stream",
     "text": [
      "Number of variables in 2012acs1 : 68401\n"
     ]
    }
   ],
   "source": [
    "var = con.variables\n",
    "print('Number of variables in', dataset, ':', len(var))"
   ]
  },
  {
   "cell_type": "markdown",
   "metadata": {},
   "source": [
    "Related columns of data will always start with the same base prefix, so Cenpy has an included function, `varslike`, that will create a list of column names that match the input pattern. It is also useful to add on the `NAME` and `GEOID` columns, as these will provide the name and geographic id of all data. In this example, we will use the [B01001A](https://www.socialexplorer.com/data/ACS2013/metadata/?ds=ACS13&table=B01001A), which gives data for sex by age within the desired geography. The identifier at the end corresponds to males or females of different age groups."
   ]
  },
  {
   "cell_type": "code",
   "execution_count": 8,
   "metadata": {
    "collapsed": false
   },
   "outputs": [
    {
     "data": {
      "text/plain": [
       "['B01001A_001E',\n",
       " 'B01001A_001M',\n",
       " 'B01001A_002E',\n",
       " 'B01001A_002M',\n",
       " 'B01001A_003E',\n",
       " 'B01001A_003M',\n",
       " 'B01001A_004E',\n",
       " 'B01001A_004M',\n",
       " 'B01001A_005E',\n",
       " 'B01001A_005M',\n",
       " 'B01001A_006E',\n",
       " 'B01001A_006M',\n",
       " 'B01001A_007E',\n",
       " 'B01001A_007M',\n",
       " 'B01001A_008E',\n",
       " 'B01001A_008M',\n",
       " 'B01001A_009E',\n",
       " 'B01001A_009M',\n",
       " 'B01001A_010E',\n",
       " 'B01001A_010M',\n",
       " 'B01001A_011E',\n",
       " 'B01001A_011M',\n",
       " 'B01001A_012E',\n",
       " 'B01001A_012M',\n",
       " 'B01001A_013E',\n",
       " 'B01001A_013M',\n",
       " 'B01001A_014E',\n",
       " 'B01001A_014M',\n",
       " 'B01001A_015E',\n",
       " 'B01001A_015M',\n",
       " 'B01001A_016E',\n",
       " 'B01001A_016M',\n",
       " 'B01001A_017E',\n",
       " 'B01001A_017M',\n",
       " 'B01001A_018E',\n",
       " 'B01001A_018M',\n",
       " 'B01001A_019E',\n",
       " 'B01001A_019M',\n",
       " 'B01001A_020E',\n",
       " 'B01001A_020M',\n",
       " 'B01001A_021E',\n",
       " 'B01001A_021M',\n",
       " 'B01001A_022E',\n",
       " 'B01001A_022M',\n",
       " 'B01001A_023E',\n",
       " 'B01001A_023M',\n",
       " 'B01001A_024E',\n",
       " 'B01001A_024M',\n",
       " 'B01001A_025E',\n",
       " 'B01001A_025M',\n",
       " 'B01001A_026E',\n",
       " 'B01001A_026M',\n",
       " 'B01001A_027E',\n",
       " 'B01001A_027M',\n",
       " 'B01001A_028E',\n",
       " 'B01001A_028M',\n",
       " 'B01001A_029E',\n",
       " 'B01001A_029M',\n",
       " 'B01001A_030E',\n",
       " 'B01001A_030M',\n",
       " 'B01001A_031E',\n",
       " 'B01001A_031M',\n",
       " 'NAME',\n",
       " 'GEOID']"
      ]
     },
     "execution_count": 8,
     "metadata": {},
     "output_type": "execute_result"
    }
   ],
   "source": [
    "cols = con.varslike('B01001A_')\n",
    "cols.extend(['NAME', 'GEOID'])\n",
    "cols"
   ]
  },
  {
   "cell_type": "markdown",
   "metadata": {},
   "source": [
    "With the three necessary arguments, data can be downloaded and saved as a panda dataframe."
   ]
  },
  {
   "cell_type": "code",
   "execution_count": 9,
   "metadata": {
    "collapsed": false
   },
   "outputs": [
    {
     "name": "stderr",
     "output_type": "stream",
     "text": [
      "C:\\Users\\Zach\\Anaconda3\\lib\\site-packages\\cenpy\\remote.py:167: FutureWarning: convert_objects is deprecated.  Use the data-type specific converters pd.to_datetime, pd.to_timedelta and pd.to_numeric.\n",
      "  df[cols] = df[cols].convert_objects(convert_numeric=convert_numeric)\n"
     ]
    }
   ],
   "source": [
    "data = con.query(cols, geo_unit=g_unit, geo_filter=g_filter)"
   ]
  },
  {
   "cell_type": "markdown",
   "metadata": {},
   "source": [
    "It is useful to replace the default index with the data from the `NAME` or `GEOID` column, as these will give a more useful description of the data."
   ]
  },
  {
   "cell_type": "code",
   "execution_count": 10,
   "metadata": {
    "collapsed": false
   },
   "outputs": [
    {
     "data": {
      "text/html": [
       "<div>\n",
       "<table border=\"1\" class=\"dataframe\">\n",
       "  <thead>\n",
       "    <tr style=\"text-align: right;\">\n",
       "      <th></th>\n",
       "      <th>B01001A_001E</th>\n",
       "    </tr>\n",
       "    <tr>\n",
       "      <th>NAME</th>\n",
       "      <th></th>\n",
       "    </tr>\n",
       "  </thead>\n",
       "  <tbody>\n",
       "    <tr>\n",
       "      <th>Adams County, Colorado</th>\n",
       "      <td>380017</td>\n",
       "    </tr>\n",
       "    <tr>\n",
       "      <th>Arapahoe County, Colorado</th>\n",
       "      <td>445459</td>\n",
       "    </tr>\n",
       "    <tr>\n",
       "      <th>Boulder County, Colorado</th>\n",
       "      <td>270200</td>\n",
       "    </tr>\n",
       "    <tr>\n",
       "      <th>Denver County, Colorado</th>\n",
       "      <td>479745</td>\n",
       "    </tr>\n",
       "    <tr>\n",
       "      <th>Douglas County, Colorado</th>\n",
       "      <td>271346</td>\n",
       "    </tr>\n",
       "    <tr>\n",
       "      <th>El Paso County, Colorado</th>\n",
       "      <td>527453</td>\n",
       "    </tr>\n",
       "    <tr>\n",
       "      <th>Jefferson County, Colorado</th>\n",
       "      <td>495398</td>\n",
       "    </tr>\n",
       "    <tr>\n",
       "      <th>Larimer County, Colorado</th>\n",
       "      <td>281231</td>\n",
       "    </tr>\n",
       "    <tr>\n",
       "      <th>Mesa County, Colorado</th>\n",
       "      <td>136439</td>\n",
       "    </tr>\n",
       "    <tr>\n",
       "      <th>Pueblo County, Colorado</th>\n",
       "      <td>128522</td>\n",
       "    </tr>\n",
       "    <tr>\n",
       "      <th>Weld County, Colorado</th>\n",
       "      <td>222649</td>\n",
       "    </tr>\n",
       "  </tbody>\n",
       "</table>\n",
       "</div>"
      ],
      "text/plain": [
       "                            B01001A_001E\n",
       "NAME                                    \n",
       "Adams County, Colorado            380017\n",
       "Arapahoe County, Colorado         445459\n",
       "Boulder County, Colorado          270200\n",
       "Denver County, Colorado           479745\n",
       "Douglas County, Colorado          271346\n",
       "El Paso County, Colorado          527453\n",
       "Jefferson County, Colorado        495398\n",
       "Larimer County, Colorado          281231\n",
       "Mesa County, Colorado             136439\n",
       "Pueblo County, Colorado           128522\n",
       "Weld County, Colorado             222649"
      ]
     },
     "execution_count": 10,
     "metadata": {},
     "output_type": "execute_result"
    }
   ],
   "source": [
    "data.index = data.NAME\n",
    "#data.index = data.GEOID\n",
    "data[['B01001A_001E']]"
   ]
  },
  {
   "cell_type": "markdown",
   "metadata": {},
   "source": [
    "### Tiger\n",
    "The Census [TIGER API](https://www.census.gov/geo/maps-data/data/tiger.html) provides geomotries for desired geographic regions."
   ]
  },
  {
   "cell_type": "code",
   "execution_count": 11,
   "metadata": {
    "collapsed": false
   },
   "outputs": [
    {
     "data": {
      "text/plain": [
       "[{'name': 'AIANNHA', 'type': 'MapServer'},\n",
       " {'name': 'CBSA', 'type': 'MapServer'},\n",
       " {'name': 'Hydro_LargeScale', 'type': 'MapServer'},\n",
       " {'name': 'Hydro', 'type': 'MapServer'},\n",
       " {'name': 'Labels', 'type': 'MapServer'},\n",
       " {'name': 'Legislative', 'type': 'MapServer'},\n",
       " {'name': 'Places_CouSub_ConCity_SubMCD', 'type': 'MapServer'},\n",
       " {'name': 'PUMA_TAD_TAZ_UGA_ZCTA', 'type': 'MapServer'},\n",
       " {'name': 'Region_Division', 'type': 'MapServer'},\n",
       " {'name': 'School', 'type': 'MapServer'},\n",
       " {'name': 'Special_Land_Use_Areas', 'type': 'MapServer'},\n",
       " {'name': 'State_County', 'type': 'MapServer'},\n",
       " {'name': 'tigerWMS_ACS2013', 'type': 'MapServer'},\n",
       " {'name': 'tigerWMS_ACS2014', 'type': 'MapServer'},\n",
       " {'name': 'tigerWMS_ACS2015', 'type': 'MapServer'},\n",
       " {'name': 'tigerWMS_Census2010', 'type': 'MapServer'},\n",
       " {'name': 'tigerWMS_Current', 'type': 'MapServer'},\n",
       " {'name': 'tigerWMS_Econ2012', 'type': 'MapServer'},\n",
       " {'name': 'tigerWMS_PhysicalFeatures', 'type': 'MapServer'},\n",
       " {'name': 'Tracts_Blocks', 'type': 'MapServer'},\n",
       " {'name': 'Transportation_LargeScale', 'type': 'MapServer'},\n",
       " {'name': 'Transportation', 'type': 'MapServer'},\n",
       " {'name': 'TribalTracts', 'type': 'MapServer'},\n",
       " {'name': 'Urban', 'type': 'MapServer'},\n",
       " {'name': 'USLandmass', 'type': 'MapServer'}]"
      ]
     },
     "execution_count": 11,
     "metadata": {},
     "output_type": "execute_result"
    }
   ],
   "source": [
    "cen.tiger.available()"
   ]
  },
  {
   "cell_type": "markdown",
   "metadata": {
    "collapsed": true
   },
   "source": [
    "First, you must establish a connection to the TIGER API, then you can display the avaialable layers. No Tiger data is available for ACS 2012, so we will use the ACS 2013 for the sake of example, but ideally you will be able to find corresponding Tiger data."
   ]
  },
  {
   "cell_type": "code",
   "execution_count": 12,
   "metadata": {
    "collapsed": false
   },
   "outputs": [
    {
     "data": {
      "text/plain": [
       "{0: (ESRILayer) 2010 Census Public Use Microdata Areas,\n",
       " 1: (ESRILayer) 2010 Census Public Use Microdata Areas Labels,\n",
       " 2: (ESRILayer) 2010 Census ZIP Code Tabulation Areas,\n",
       " 3: (ESRILayer) 2010 Census ZIP Code Tabulation Areas Labels,\n",
       " 4: (ESRILayer) Tribal Census Tracts,\n",
       " 5: (ESRILayer) Tribal Census Tracts Labels,\n",
       " 6: (ESRILayer) Tribal Block Groups,\n",
       " 7: (ESRILayer) Tribal Block Groups Labels,\n",
       " 8: (ESRILayer) Census Tracts,\n",
       " 9: (ESRILayer) Census Tracts Labels,\n",
       " 10: (ESRILayer) Census Block Groups,\n",
       " 11: (ESRILayer) Census Block Groups Labels,\n",
       " 12: (ESRILayer) Unified School Districts,\n",
       " 13: (ESRILayer) Unified School Districts Labels,\n",
       " 14: (ESRILayer) Secondary School Districts,\n",
       " 15: (ESRILayer) Secondary School Districts Labels,\n",
       " 16: (ESRILayer) Elementary School Districts,\n",
       " 17: (ESRILayer) Elementary School Districts Labels,\n",
       " 18: (ESRILayer) Estates,\n",
       " 19: (ESRILayer) Estates Labels,\n",
       " 20: (ESRILayer) County Subdivisions,\n",
       " 21: (ESRILayer) County Subdivisions Labels,\n",
       " 22: (ESRILayer) Subbarrios,\n",
       " 23: (ESRILayer) Subbarrios Labels,\n",
       " 24: (ESRILayer) Consolidated Cities,\n",
       " 25: (ESRILayer) Consolidated Cities Labels,\n",
       " 26: (ESRILayer) Incorporated Places,\n",
       " 27: (ESRILayer) Incorporated Places Labels,\n",
       " 28: (ESRILayer) Census Designated Places,\n",
       " 29: (ESRILayer) Census Designated Places Labels,\n",
       " 30: (ESRILayer) Alaska Native Regional Corporations,\n",
       " 31: (ESRILayer) Alaska Native Regional Corporations Labels,\n",
       " 32: (ESRILayer) Tribal Subdivisions,\n",
       " 33: (ESRILayer) Tribal Subdivisions Labels,\n",
       " 34: (ESRILayer) Federal American Indian Reservations,\n",
       " 35: (ESRILayer) Federal American Indian Reservations Labels,\n",
       " 36: (ESRILayer) Off-Reservation Trust Lands,\n",
       " 37: (ESRILayer) Off-Reservation Trust Lands Labels,\n",
       " 38: (ESRILayer) State American Indian Reservations,\n",
       " 39: (ESRILayer) State American Indian Reservations Labels,\n",
       " 40: (ESRILayer) Hawaiian Home Lands,\n",
       " 41: (ESRILayer) Hawaiian Home Lands Labels,\n",
       " 42: (ESRILayer) Alaska Native Village Statistical Areas,\n",
       " 43: (ESRILayer) Alaska Native Village Statistical Areas Labels,\n",
       " 44: (ESRILayer) Oklahoma Tribal Statistical Areas,\n",
       " 45: (ESRILayer) Oklahoma Tribal Statistical Areas Labels,\n",
       " 46: (ESRILayer) State Designated Tribal Statistical Areas,\n",
       " 47: (ESRILayer) State Designated Tribal Statistical Areas Labels,\n",
       " 48: (ESRILayer) Tribal Designated Statistical Areas,\n",
       " 49: (ESRILayer) Tribal Designated Statistical Areas Labels,\n",
       " 50: (ESRILayer) American Indian Joint-Use Areas,\n",
       " 51: (ESRILayer) American Indian Joint-Use Areas Labels,\n",
       " 52: (ESRILayer) 113th Congressional Districts,\n",
       " 53: (ESRILayer) 113th Congressional Districts Labels,\n",
       " 54: (ESRILayer) 2013 State Legislative Districts - Upper,\n",
       " 55: (ESRILayer) 2013 State Legislative Districts - Upper Labels,\n",
       " 56: (ESRILayer) 2013 State Legislative Districts - Lower,\n",
       " 57: (ESRILayer) 2013 State Legislative Districts - Lower Labels,\n",
       " 58: (ESRILayer) Census Divisions,\n",
       " 59: (ESRILayer) Census Divisions Labels,\n",
       " 60: (ESRILayer) Census Regions,\n",
       " 61: (ESRILayer) Census Regions Labels,\n",
       " 62: (ESRILayer) 2010 Census Urbanized Areas,\n",
       " 63: (ESRILayer) 2010 Census Urbanized Areas Labels,\n",
       " 64: (ESRILayer) 2010 Census Urban Clusters,\n",
       " 65: (ESRILayer) 2010 Census Urban Clusters Labels,\n",
       " 66: (ESRILayer) Combined New England City and Town Areas,\n",
       " 67: (ESRILayer) Combined New England City and Town Areas Labels,\n",
       " 68: (ESRILayer) New England City and Town Area Divisions,\n",
       " 69: (ESRILayer) New England City and Town Area  Divisions Labels,\n",
       " 70: (ESRILayer) Metropolitan New England City and Town Areas,\n",
       " 71: (ESRILayer) Metropolitan New England City and Town Areas Labels,\n",
       " 72: (ESRILayer) Micropolitan New England City and Town Areas,\n",
       " 73: (ESRILayer) Micropolitan New England City and Town Areas Labels,\n",
       " 74: (ESRILayer) Combined Statistical Areas,\n",
       " 75: (ESRILayer) Combined Statistical Areas Labels,\n",
       " 76: (ESRILayer) Metropolitan Divisions,\n",
       " 77: (ESRILayer) Metropolitan Divisions Labels,\n",
       " 78: (ESRILayer) Metropolitan Statistical Areas,\n",
       " 79: (ESRILayer) Metropolitan Statistical Areas Labels,\n",
       " 80: (ESRILayer) Micropolitan Statistical Areas,\n",
       " 81: (ESRILayer) Micropolitan Statistical Areas Labels,\n",
       " 82: (ESRILayer) States,\n",
       " 83: (ESRILayer) States Labels,\n",
       " 84: (ESRILayer) Counties,\n",
       " 85: (ESRILayer) Counties Labels}"
      ]
     },
     "execution_count": 12,
     "metadata": {},
     "output_type": "execute_result"
    }
   ],
   "source": [
    "con.set_mapservice('tigerWMS_ACS2013')\n",
    "con.mapservice.layers"
   ]
  },
  {
   "cell_type": "markdown",
   "metadata": {},
   "source": [
    "The data retrieved earlier was at the county level, so we will use layer 84."
   ]
  },
  {
   "cell_type": "code",
   "execution_count": 13,
   "metadata": {
    "collapsed": false
   },
   "outputs": [
    {
     "data": {
      "text/plain": [
       "(ESRILayer) Counties"
      ]
     },
     "execution_count": 13,
     "metadata": {},
     "output_type": "execute_result"
    }
   ],
   "source": [
    "con.mapservice.layers[84]"
   ]
  },
  {
   "cell_type": "markdown",
   "metadata": {},
   "source": [
    "Now, using the tiger connection, `query()` can be called providing the layer and the geographic location as the two arguments."
   ]
  },
  {
   "cell_type": "code",
   "execution_count": 14,
   "metadata": {
    "collapsed": false
   },
   "outputs": [],
   "source": [
    "geodata = con.mapservice.query(layer=84, where='STATE=8')"
   ]
  },
  {
   "cell_type": "markdown",
   "metadata": {},
   "source": [
    "This data can now be merged with the original data to create one panda dataframe containing all of the relevant data"
   ]
  },
  {
   "cell_type": "code",
   "execution_count": 15,
   "metadata": {
    "collapsed": false,
    "scrolled": true
   },
   "outputs": [
    {
     "data": {
      "text/html": [
       "<div>\n",
       "<table border=\"1\" class=\"dataframe\">\n",
       "  <thead>\n",
       "    <tr style=\"text-align: right;\">\n",
       "      <th></th>\n",
       "      <th>B01001A_001E</th>\n",
       "      <th>B01001A_001M</th>\n",
       "      <th>B01001A_002E</th>\n",
       "      <th>B01001A_002M</th>\n",
       "      <th>B01001A_003E</th>\n",
       "      <th>B01001A_003M</th>\n",
       "      <th>B01001A_004E</th>\n",
       "      <th>B01001A_004M</th>\n",
       "      <th>B01001A_005E</th>\n",
       "      <th>B01001A_005M</th>\n",
       "      <th>...</th>\n",
       "      <th>GEOID_y</th>\n",
       "      <th>INTPTLAT</th>\n",
       "      <th>INTPTLON</th>\n",
       "      <th>LSADC</th>\n",
       "      <th>MTFCC</th>\n",
       "      <th>NAME_y</th>\n",
       "      <th>OBJECTID</th>\n",
       "      <th>OID</th>\n",
       "      <th>STATE</th>\n",
       "      <th>geometry</th>\n",
       "    </tr>\n",
       "  </thead>\n",
       "  <tbody>\n",
       "    <tr>\n",
       "      <th>0</th>\n",
       "      <td>380017</td>\n",
       "      <td>6171</td>\n",
       "      <td>190078</td>\n",
       "      <td>3378</td>\n",
       "      <td>14551</td>\n",
       "      <td>903</td>\n",
       "      <td>16003</td>\n",
       "      <td>1466</td>\n",
       "      <td>13330</td>\n",
       "      <td>1343</td>\n",
       "      <td>...</td>\n",
       "      <td>08001</td>\n",
       "      <td>+39.8743252</td>\n",
       "      <td>-104.3318718</td>\n",
       "      <td>06</td>\n",
       "      <td>G4020</td>\n",
       "      <td>Adams County</td>\n",
       "      <td>1226</td>\n",
       "      <td>27553700234319</td>\n",
       "      <td>08</td>\n",
       "      <td>&lt;pysal.cg.shapes.Polygon object at 0x000002522...</td>\n",
       "    </tr>\n",
       "    <tr>\n",
       "      <th>1</th>\n",
       "      <td>445459</td>\n",
       "      <td>5621</td>\n",
       "      <td>218157</td>\n",
       "      <td>3358</td>\n",
       "      <td>13536</td>\n",
       "      <td>742</td>\n",
       "      <td>15491</td>\n",
       "      <td>1398</td>\n",
       "      <td>13177</td>\n",
       "      <td>1520</td>\n",
       "      <td>...</td>\n",
       "      <td>08005</td>\n",
       "      <td>+39.6445537</td>\n",
       "      <td>-104.3317065</td>\n",
       "      <td>06</td>\n",
       "      <td>G4020</td>\n",
       "      <td>Arapahoe County</td>\n",
       "      <td>2980</td>\n",
       "      <td>27553703789414</td>\n",
       "      <td>08</td>\n",
       "      <td>&lt;pysal.cg.shapes.Polygon object at 0x000002522...</td>\n",
       "    </tr>\n",
       "    <tr>\n",
       "      <th>2</th>\n",
       "      <td>270200</td>\n",
       "      <td>3059</td>\n",
       "      <td>136575</td>\n",
       "      <td>1499</td>\n",
       "      <td>6977</td>\n",
       "      <td>321</td>\n",
       "      <td>6985</td>\n",
       "      <td>715</td>\n",
       "      <td>8421</td>\n",
       "      <td>847</td>\n",
       "      <td>...</td>\n",
       "      <td>08013</td>\n",
       "      <td>+40.0949699</td>\n",
       "      <td>-105.3976911</td>\n",
       "      <td>06</td>\n",
       "      <td>G4020</td>\n",
       "      <td>Boulder County</td>\n",
       "      <td>512</td>\n",
       "      <td>27553701435070</td>\n",
       "      <td>08</td>\n",
       "      <td>&lt;pysal.cg.shapes.Polygon object at 0x000002522...</td>\n",
       "    </tr>\n",
       "    <tr>\n",
       "      <th>3</th>\n",
       "      <td>479745</td>\n",
       "      <td>6561</td>\n",
       "      <td>241272</td>\n",
       "      <td>3883</td>\n",
       "      <td>17073</td>\n",
       "      <td>954</td>\n",
       "      <td>13994</td>\n",
       "      <td>1779</td>\n",
       "      <td>10457</td>\n",
       "      <td>1465</td>\n",
       "      <td>...</td>\n",
       "      <td>08031</td>\n",
       "      <td>+39.7618502</td>\n",
       "      <td>-104.8811054</td>\n",
       "      <td>06</td>\n",
       "      <td>G4020</td>\n",
       "      <td>Denver County</td>\n",
       "      <td>529</td>\n",
       "      <td>27553700234321</td>\n",
       "      <td>08</td>\n",
       "      <td>&lt;pysal.cg.shapes.Polygon object at 0x000002522...</td>\n",
       "    </tr>\n",
       "    <tr>\n",
       "      <th>4</th>\n",
       "      <td>271346</td>\n",
       "      <td>1601</td>\n",
       "      <td>135162</td>\n",
       "      <td>1093</td>\n",
       "      <td>9516</td>\n",
       "      <td>354</td>\n",
       "      <td>12390</td>\n",
       "      <td>1074</td>\n",
       "      <td>11748</td>\n",
       "      <td>1049</td>\n",
       "      <td>...</td>\n",
       "      <td>08035</td>\n",
       "      <td>+39.3254140</td>\n",
       "      <td>-104.9259871</td>\n",
       "      <td>06</td>\n",
       "      <td>G4020</td>\n",
       "      <td>Douglas County</td>\n",
       "      <td>2762</td>\n",
       "      <td>27553711656416</td>\n",
       "      <td>08</td>\n",
       "      <td>&lt;pysal.cg.shapes.Polygon object at 0x000002522...</td>\n",
       "    </tr>\n",
       "    <tr>\n",
       "      <th>5</th>\n",
       "      <td>527453</td>\n",
       "      <td>4503</td>\n",
       "      <td>264361</td>\n",
       "      <td>2801</td>\n",
       "      <td>17916</td>\n",
       "      <td>599</td>\n",
       "      <td>18957</td>\n",
       "      <td>1465</td>\n",
       "      <td>17433</td>\n",
       "      <td>1477</td>\n",
       "      <td>...</td>\n",
       "      <td>08041</td>\n",
       "      <td>+38.8273831</td>\n",
       "      <td>-104.5274718</td>\n",
       "      <td>06</td>\n",
       "      <td>G4020</td>\n",
       "      <td>El Paso County</td>\n",
       "      <td>2878</td>\n",
       "      <td>27553704502958</td>\n",
       "      <td>08</td>\n",
       "      <td>&lt;pysal.cg.shapes.Polygon object at 0x000002522...</td>\n",
       "    </tr>\n",
       "    <tr>\n",
       "      <th>6</th>\n",
       "      <td>495398</td>\n",
       "      <td>3342</td>\n",
       "      <td>246793</td>\n",
       "      <td>1492</td>\n",
       "      <td>12941</td>\n",
       "      <td>361</td>\n",
       "      <td>14763</td>\n",
       "      <td>1470</td>\n",
       "      <td>15163</td>\n",
       "      <td>1344</td>\n",
       "      <td>...</td>\n",
       "      <td>08059</td>\n",
       "      <td>+39.5795106</td>\n",
       "      <td>-105.2454623</td>\n",
       "      <td>06</td>\n",
       "      <td>G4020</td>\n",
       "      <td>Jefferson County</td>\n",
       "      <td>540</td>\n",
       "      <td>27553702223972</td>\n",
       "      <td>08</td>\n",
       "      <td>&lt;pysal.cg.shapes.Polygon object at 0x000002522...</td>\n",
       "    </tr>\n",
       "    <tr>\n",
       "      <th>7</th>\n",
       "      <td>281231</td>\n",
       "      <td>3020</td>\n",
       "      <td>139420</td>\n",
       "      <td>1665</td>\n",
       "      <td>7459</td>\n",
       "      <td>454</td>\n",
       "      <td>8569</td>\n",
       "      <td>802</td>\n",
       "      <td>7141</td>\n",
       "      <td>1004</td>\n",
       "      <td>...</td>\n",
       "      <td>08069</td>\n",
       "      <td>+40.6580933</td>\n",
       "      <td>-105.4867638</td>\n",
       "      <td>06</td>\n",
       "      <td>G4020</td>\n",
       "      <td>Larimer County</td>\n",
       "      <td>1691</td>\n",
       "      <td>27553352525178</td>\n",
       "      <td>08</td>\n",
       "      <td>&lt;pysal.cg.shapes.Polygon object at 0x000002522...</td>\n",
       "    </tr>\n",
       "    <tr>\n",
       "      <th>8</th>\n",
       "      <td>136439</td>\n",
       "      <td>1926</td>\n",
       "      <td>67852</td>\n",
       "      <td>1173</td>\n",
       "      <td>4594</td>\n",
       "      <td>780</td>\n",
       "      <td>4456</td>\n",
       "      <td>918</td>\n",
       "      <td>4048</td>\n",
       "      <td>839</td>\n",
       "      <td>...</td>\n",
       "      <td>08077</td>\n",
       "      <td>+39.0194206</td>\n",
       "      <td>-108.4618935</td>\n",
       "      <td>06</td>\n",
       "      <td>G4020</td>\n",
       "      <td>Mesa County</td>\n",
       "      <td>2925</td>\n",
       "      <td>27553356301770</td>\n",
       "      <td>08</td>\n",
       "      <td>&lt;pysal.cg.shapes.Polygon object at 0x000002522...</td>\n",
       "    </tr>\n",
       "    <tr>\n",
       "      <th>9</th>\n",
       "      <td>128522</td>\n",
       "      <td>4049</td>\n",
       "      <td>62431</td>\n",
       "      <td>2107</td>\n",
       "      <td>3472</td>\n",
       "      <td>550</td>\n",
       "      <td>3488</td>\n",
       "      <td>750</td>\n",
       "      <td>4246</td>\n",
       "      <td>940</td>\n",
       "      <td>...</td>\n",
       "      <td>08101</td>\n",
       "      <td>+38.1706581</td>\n",
       "      <td>-104.4898924</td>\n",
       "      <td>06</td>\n",
       "      <td>G4020</td>\n",
       "      <td>Pueblo County</td>\n",
       "      <td>653</td>\n",
       "      <td>27553704502959</td>\n",
       "      <td>08</td>\n",
       "      <td>&lt;pysal.cg.shapes.Polygon object at 0x000002522...</td>\n",
       "    </tr>\n",
       "    <tr>\n",
       "      <th>10</th>\n",
       "      <td>222649</td>\n",
       "      <td>4260</td>\n",
       "      <td>110928</td>\n",
       "      <td>2213</td>\n",
       "      <td>8498</td>\n",
       "      <td>482</td>\n",
       "      <td>9023</td>\n",
       "      <td>1138</td>\n",
       "      <td>7588</td>\n",
       "      <td>1055</td>\n",
       "      <td>...</td>\n",
       "      <td>08123</td>\n",
       "      <td>+40.5559610</td>\n",
       "      <td>-104.3836660</td>\n",
       "      <td>06</td>\n",
       "      <td>G4020</td>\n",
       "      <td>Weld County</td>\n",
       "      <td>1853</td>\n",
       "      <td>27553370815984</td>\n",
       "      <td>08</td>\n",
       "      <td>&lt;pysal.cg.shapes.Polygon object at 0x000002522...</td>\n",
       "    </tr>\n",
       "  </tbody>\n",
       "</table>\n",
       "<p>11 rows × 85 columns</p>\n",
       "</div>"
      ],
      "text/plain": [
       "    B01001A_001E  B01001A_001M  B01001A_002E  B01001A_002M  B01001A_003E  \\\n",
       "0         380017          6171        190078          3378         14551   \n",
       "1         445459          5621        218157          3358         13536   \n",
       "2         270200          3059        136575          1499          6977   \n",
       "3         479745          6561        241272          3883         17073   \n",
       "4         271346          1601        135162          1093          9516   \n",
       "5         527453          4503        264361          2801         17916   \n",
       "6         495398          3342        246793          1492         12941   \n",
       "7         281231          3020        139420          1665          7459   \n",
       "8         136439          1926         67852          1173          4594   \n",
       "9         128522          4049         62431          2107          3472   \n",
       "10        222649          4260        110928          2213          8498   \n",
       "\n",
       "    B01001A_003M  B01001A_004E  B01001A_004M  B01001A_005E  B01001A_005M  \\\n",
       "0            903         16003          1466         13330          1343   \n",
       "1            742         15491          1398         13177          1520   \n",
       "2            321          6985           715          8421           847   \n",
       "3            954         13994          1779         10457          1465   \n",
       "4            354         12390          1074         11748          1049   \n",
       "5            599         18957          1465         17433          1477   \n",
       "6            361         14763          1470         15163          1344   \n",
       "7            454          8569           802          7141          1004   \n",
       "8            780          4456           918          4048           839   \n",
       "9            550          3488           750          4246           940   \n",
       "10           482          9023          1138          7588          1055   \n",
       "\n",
       "                          ...                          GEOID_y     INTPTLAT  \\\n",
       "0                         ...                            08001  +39.8743252   \n",
       "1                         ...                            08005  +39.6445537   \n",
       "2                         ...                            08013  +40.0949699   \n",
       "3                         ...                            08031  +39.7618502   \n",
       "4                         ...                            08035  +39.3254140   \n",
       "5                         ...                            08041  +38.8273831   \n",
       "6                         ...                            08059  +39.5795106   \n",
       "7                         ...                            08069  +40.6580933   \n",
       "8                         ...                            08077  +39.0194206   \n",
       "9                         ...                            08101  +38.1706581   \n",
       "10                        ...                            08123  +40.5559610   \n",
       "\n",
       "        INTPTLON  LSADC  MTFCC            NAME_y  OBJECTID             OID  \\\n",
       "0   -104.3318718     06  G4020      Adams County      1226  27553700234319   \n",
       "1   -104.3317065     06  G4020   Arapahoe County      2980  27553703789414   \n",
       "2   -105.3976911     06  G4020    Boulder County       512  27553701435070   \n",
       "3   -104.8811054     06  G4020     Denver County       529  27553700234321   \n",
       "4   -104.9259871     06  G4020    Douglas County      2762  27553711656416   \n",
       "5   -104.5274718     06  G4020    El Paso County      2878  27553704502958   \n",
       "6   -105.2454623     06  G4020  Jefferson County       540  27553702223972   \n",
       "7   -105.4867638     06  G4020    Larimer County      1691  27553352525178   \n",
       "8   -108.4618935     06  G4020       Mesa County      2925  27553356301770   \n",
       "9   -104.4898924     06  G4020     Pueblo County       653  27553704502959   \n",
       "10  -104.3836660     06  G4020       Weld County      1853  27553370815984   \n",
       "\n",
       "    STATE                                           geometry  \n",
       "0      08  <pysal.cg.shapes.Polygon object at 0x000002522...  \n",
       "1      08  <pysal.cg.shapes.Polygon object at 0x000002522...  \n",
       "2      08  <pysal.cg.shapes.Polygon object at 0x000002522...  \n",
       "3      08  <pysal.cg.shapes.Polygon object at 0x000002522...  \n",
       "4      08  <pysal.cg.shapes.Polygon object at 0x000002522...  \n",
       "5      08  <pysal.cg.shapes.Polygon object at 0x000002522...  \n",
       "6      08  <pysal.cg.shapes.Polygon object at 0x000002522...  \n",
       "7      08  <pysal.cg.shapes.Polygon object at 0x000002522...  \n",
       "8      08  <pysal.cg.shapes.Polygon object at 0x000002522...  \n",
       "9      08  <pysal.cg.shapes.Polygon object at 0x000002522...  \n",
       "10     08  <pysal.cg.shapes.Polygon object at 0x000002522...  \n",
       "\n",
       "[11 rows x 85 columns]"
      ]
     },
     "execution_count": 15,
     "metadata": {},
     "output_type": "execute_result"
    }
   ],
   "source": [
    "newdata = pd.merge(data, geodata, left_on='county', right_on='COUNTY')\n",
    "newdata"
   ]
  }
 ],
 "metadata": {
  "kernelspec": {
   "display_name": "Python 3",
   "language": "python",
   "name": "python3"
  },
  "language_info": {
   "codemirror_mode": {
    "name": "ipython",
    "version": 3
   },
   "file_extension": ".py",
   "mimetype": "text/x-python",
   "name": "python",
   "nbconvert_exporter": "python",
   "pygments_lexer": "ipython3",
   "version": "3.5.1"
  }
 },
 "nbformat": 4,
 "nbformat_minor": 0
}
