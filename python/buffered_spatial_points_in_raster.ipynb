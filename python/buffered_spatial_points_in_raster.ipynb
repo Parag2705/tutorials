{
 "cells": [
  {
   "cell_type": "markdown",
   "metadata": {},
   "source": [
    "# Characterizing Raster Data around Buffered Spatial Points\n",
    "\n",
    "Author: Matt Oakley\n",
    "\n",
    "One important thing we can do with data in Raster format is calculate statistical values such as mean, standard deviation, variance, etc. around points in the data. By doing so, we're able to find out attributes about the data and can generalize areas of it as opposed to dealing with every single individual cell.\n",
    "\n",
    "## Objectives\n",
    "\n",
    "- Extract points in area with respect to an inputted radius\n",
    "- Compute statistics from these points\n",
    "\n",
    "## Dependencies\n",
    "\n",
    "- GDAL\n",
    "- NumPy"
   ]
  },
  {
   "cell_type": "code",
   "execution_count": 1,
   "metadata": {
    "collapsed": false,
    "scrolled": true
   },
   "outputs": [
    {
     "name": "stdout",
     "output_type": "stream",
     "text": [
      "Fetching package metadata .......\n",
      "Solving package specifications: ..........\n",
      "\n",
      "# All requested packages already installed.\n",
      "# packages in environment at /home/user/anaconda2:\n",
      "#\n",
      "gdal                      2.0.0                    py27_1  \n",
      "Fetching package metadata .......\n",
      "Solving package specifications: ..........\n",
      "\n",
      "# All requested packages already installed.\n",
      "# packages in environment at /home/user/anaconda2:\n",
      "#\n",
      "numpy                     1.11.1                   py27_0  \n"
     ]
    }
   ],
   "source": [
    "!conda install gdal\n",
    "!conda install numpy"
   ]
  },
  {
   "cell_type": "code",
   "execution_count": 2,
   "metadata": {
    "collapsed": true
   },
   "outputs": [],
   "source": [
    "from osgeo import gdal\n",
    "import numpy as np"
   ]
  },
  {
   "cell_type": "markdown",
   "metadata": {},
   "source": [
    "## Extracting Points in the Area\n",
    "\n",
    "Our first objective will be to specify a radius that we want to use. This radius will essentially specify how many points/how large we want our buffer area to be from our central point. The larger the radius, the more generalized our data and subsequent statistical values will become. Let's first just read in our data and see the extents of our data so we can pick a point to center our buffer."
   ]
  },
  {
   "cell_type": "code",
   "execution_count": 3,
   "metadata": {
    "collapsed": false
   },
   "outputs": [
    {
     "name": "stdout",
     "output_type": "stream",
     "text": [
      "Number of rows: 466\n",
      "Number of cols: 357\n"
     ]
    }
   ],
   "source": [
    "#Read in our data\n",
    "filename = \"front_range.dem\"\n",
    "data = gdal.Open(filename)\n",
    "data_array = np.array(data.GetRasterBand(1). ReadAsArray())\n",
    "num_rows = data_array.shape[0]\n",
    "num_cols = data_array.shape[1]\n",
    "\n",
    "print \"Number of rows:\", num_rows\n",
    "print \"Number of cols:\", num_cols"
   ]
  },
  {
   "cell_type": "markdown",
   "metadata": {},
   "source": [
    "Now that we know the number of rows and columns that make up our raster, we can pick a points to center our buffer/area. With the example data, we have 466 rows and 357 columns. Therfore, we can pick anywhere between 0-466 and 0-357 for our x and y coordinates, respetively. Let's choose (100, 200) for our center, set our radius to 2, and extract the surrounding points. This means that all values within 2 cells of our center point will be taken into consideration when calculating statistics on the data."
   ]
  },
  {
   "cell_type": "code",
   "execution_count": 4,
   "metadata": {
    "collapsed": false
   },
   "outputs": [
    {
     "name": "stdout",
     "output_type": "stream",
     "text": [
      "Center point at coordinates (100, 200): 1915\n",
      "Radius: 2\n",
      "Points in buffer [line 1]:  [1868 1879 1888 1901 1912]\n",
      "Points in buffer [line 2]:  [1880 1889 1903 1915 1929]\n",
      "Points in buffer [line 3]:  [1890 1900 1915 1929 1944]\n",
      "Points in buffer [line 4]:  [1898 1911 1925 1943 1961]\n",
      "Points in buffer [line 5]:  [1905 1919 1935 1956 1967]\n"
     ]
    }
   ],
   "source": [
    "coords = (100, 200)\n",
    "radius = 2\n",
    "\n",
    "buffer_list = []\n",
    "lower_x = coords[0] - radius\n",
    "upper_x = coords[0] + radius\n",
    "lower_y = coords[1] - radius\n",
    "upper_y = coords[1] + radius\n",
    "\n",
    "for row in range(lower_x, upper_x + 1):\n",
    "    for col in range(lower_y, upper_y + 1):\n",
    "        val = data_array[row][col]\n",
    "        buffer_list.append(val)\n",
    "\n",
    "buffer_array = np.asarray(buffer_list)\n",
    "\n",
    "print \"Center point at coordinates \" + str(coords) + \": \" + str(data_array[100][200])\n",
    "print \"Radius:\", radius\n",
    "print \"Points in buffer [line 1]: \", buffer_array[0:5]\n",
    "print \"Points in buffer [line 2]: \", buffer_array[5:10]\n",
    "print \"Points in buffer [line 3]: \", buffer_array[10:15]\n",
    "print \"Points in buffer [line 4]: \", buffer_array[15:20]\n",
    "print \"Points in buffer [line 5]: \", buffer_array[20:25]"
   ]
  },
  {
   "cell_type": "markdown",
   "metadata": {},
   "source": [
    "## Compute Statistics\n",
    "\n",
    "Now that we have all of the values within the buffer/area, we can very easily use NumPy to compute statistics such as mean, standard deviation, and variance on the data."
   ]
  },
  {
   "cell_type": "code",
   "execution_count": 5,
   "metadata": {
    "collapsed": false
   },
   "outputs": [
    {
     "name": "stdout",
     "output_type": "stream",
     "text": [
      "Mean: 1914.48\n",
      "Standard Deviation 25.8969032898\n",
      "Variance 670.6496\n"
     ]
    }
   ],
   "source": [
    "mean = np.mean(buffer_array)\n",
    "std = np.std(buffer_array)\n",
    "variance = np.var(buffer_array)\n",
    "\n",
    "print \"Mean:\", mean\n",
    "print \"Standard Deviation\", std\n",
    "print \"Variance\", variance"
   ]
  }
 ],
 "metadata": {
  "kernelspec": {
   "display_name": "Python 2",
   "language": "python",
   "name": "python2"
  },
  "language_info": {
   "codemirror_mode": {
    "name": "ipython",
    "version": 2
   },
   "file_extension": ".py",
   "mimetype": "text/x-python",
   "name": "python",
   "nbconvert_exporter": "python",
   "pygments_lexer": "ipython2",
   "version": "2.7.11"
  }
 },
 "nbformat": 4,
 "nbformat_minor": 0
}
