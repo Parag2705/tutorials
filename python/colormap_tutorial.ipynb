{
 "cells": [
  {
   "cell_type": "markdown",
   "metadata": {},
   "source": [
    "# Importing Colormaps into your Python Code"
   ]
  },
  {
   "cell_type": "markdown",
   "metadata": {},
   "source": [
    "Author: Matt Oakley\n",
    "\n",
    "Almost any time you visualize something with Python you'll need to utilize a colormap. A colormap is essentially just a way for Python and Python modules to associate certain data values with certain colors. Colormaps can be extremely useful due to the fact that they can draw out and emphasize certain components of the data that otherwise may be missed from the viewer.\n",
    "\n",
    "This tutorial covers how to use a Python package \"colormaps\" which will import colormaps of your choosing into your code.\n",
    "\n",
    "## Objectives\n",
    "\n",
    "- Choose a colormap\n",
    "- Import the colormap into code\n",
    "- Plot/Utilize the colormap\n",
    "\n",
    "## Dependencies\n",
    "\n",
    "- Colormap Package\n",
    "- Numpy\n",
    "- Matplotlib"
   ]
  },
  {
   "cell_type": "code",
   "execution_count": 1,
   "metadata": {
    "collapsed": false
   },
   "outputs": [],
   "source": [
    "%matplotlib inline\n",
    "\n",
    "import numpy\n",
    "import colormaps\n",
    "from colormaps import grab\n",
    "from colormaps import list_colors\n",
    "import matplotlib as mpl\n",
    "from matplotlib import pyplot as plt\n",
    "from matplotlib import colors as mc"
   ]
  },
  {
   "cell_type": "markdown",
   "metadata": {},
   "source": [
    "## Choosing a Colormap\n",
    "\n",
    "Currently, the \"colormaps\" Python package consists of 204 different colormaps from NCL. In the future, the colormaps package will be extensible and have the ability to include more colormaps and give you the ability to make your own. But for now, let's just deal with the ones that are already available."
   ]
  },
  {
   "cell_type": "code",
   "execution_count": 2,
   "metadata": {
    "collapsed": false
   },
   "outputs": [
    {
     "name": "stdout",
     "output_type": "stream",
     "text": [
      "3gauss.rgb\n",
      "3saw.rgb\n",
      "Accent_mpl.rgb\n",
      "afmhot_mpl.rgb\n",
      "amwg.rgb\n",
      "amwg256.rgb\n",
      "amwg_blueyellowred.rgb\n",
      "autumn_mpl.rgb\n",
      "banded_ncview.rgb\n",
      "bhw3_22_svg.rgb\n",
      "BkBlAqGrYeOrReViWh200.rgb\n",
      "BlAqGrWh2YeOrReVi22.rgb\n",
      "BlAqGrYeOrRe.rgb\n",
      "BlAqGrYeOrReVi200.rgb\n",
      "BlGrYeOrReVi200.rgb\n",
      "BlRe.rgb\n",
      "BlueDarkOrange18.rgb\n",
      "BlueDarkRed18.rgb\n",
      "BlueGreen14.rgb\n",
      "BlueRed.rgb\n",
      "BlueRedGray.rgb\n",
      "Blues_mpl.rgb\n",
      "BlueWhiteOrangeRed.rgb\n",
      "BlueYellowRed.rgb\n",
      "blue_red_ncview.rgb\n",
      "blu_red_ncview.rgb\n",
      "BlWhRe.rgb\n",
      "bone_mpl.rgb\n",
      "BrBG_mpl.rgb\n",
      "brg_mpl.rgb\n",
      "bright_ncview.rgb\n",
      "BrownBlue12.rgb\n",
      "BuGn_mpl.rgb\n",
      "BuPu_mpl.rgb\n",
      "bwr_mpl.rgb\n",
      "Cat12.rgb\n",
      "CBR_coldhot.rgb\n",
      "CBR_drywet.rgb\n",
      "CBR_set3.rgb\n",
      "CBR_wet.rgb\n",
      "cb_9step.rgb\n",
      "cb_rainbow.rgb\n",
      "cb_rainbow_inv.rgb\n",
      "Dark2_mpl.rgb\n",
      "Gallet13_svg.rgb\n",
      "GHRSST_anomaly.rgb\n",
      "GMT_cool.rgb\n",
      "GMT_copper.rgb\n",
      "GMT_drywet.rgb\n",
      "GMT_gebco.rgb\n",
      "GMT_globe.rgb\n",
      "GMT_gray.rgb\n",
      "GMT_haxby.rgb\n",
      "GMT_hot.rgb\n",
      "GMT_jet.rgb\n",
      "GMT_nighttime.rgb\n",
      "GMT_no_green.rgb\n",
      "GMT_ocean.rgb\n",
      "GMT_paired.rgb\n",
      "GMT_panoply.rgb\n",
      "GMT_polar.rgb\n",
      "GMT_red2green.rgb\n",
      "GMT_relief.rgb\n",
      "GMT_relief_oceanonly.rgb\n",
      "GMT_seis.rgb\n",
      "GMT_split.rgb\n",
      "GMT_topo.rgb\n",
      "GMT_wysiwyg.rgb\n",
      "GMT_wysiwygcont.rgb\n",
      "GnBu_mpl.rgb\n",
      "GrayWhiteGray.rgb\n",
      "GreenMagenta16.rgb\n",
      "Greens_mpl.rgb\n",
      "GreenYellow.rgb\n",
      "Greys_mpl.rgb\n",
      "Lindaa06_svg.rgb\n",
      "Lindaa07_svg.rgb\n",
      "MPL_Accent.rgb\n",
      "MPL_afmhot.rgb\n",
      "MPL_autumn.rgb\n",
      "MPL_Blues.rgb\n",
      "MPL_bone.rgb\n",
      "MPL_BrBG.rgb\n",
      "MPL_brg.rgb\n",
      "MPL_BuGn.rgb\n",
      "MPL_BuPu.rgb\n",
      "MPL_bwr.rgb\n",
      "MPL_cool.rgb\n",
      "MPL_coolwarm.rgb\n",
      "MPL_copper.rgb\n",
      "MPL_cubehelix.rgb\n",
      "MPL_Dark2.rgb\n",
      "MPL_flag.rgb\n",
      "MPL_gist_earth.rgb\n",
      "MPL_gist_gray.rgb\n",
      "MPL_gist_heat.rgb\n",
      "MPL_gist_ncar.rgb\n",
      "MPL_gist_rainbow.rgb\n",
      "MPL_gist_stern.rgb\n",
      "MPL_gist_yarg.rgb\n",
      "MPL_GnBu.rgb\n",
      "MPL_gnuplot.rgb\n",
      "MPL_gnuplot2.rgb\n",
      "MPL_Greens.rgb\n",
      "MPL_Greys.rgb\n",
      "MPL_hot.rgb\n",
      "MPL_hsv.rgb\n",
      "MPL_jet.rgb\n",
      "MPL_ocean.rgb\n",
      "MPL_Oranges.rgb\n",
      "MPL_OrRd.rgb\n",
      "MPL_Paired.rgb\n",
      "MPL_Pastel1.rgb\n",
      "MPL_Pastel2.rgb\n",
      "MPL_pink.rgb\n",
      "MPL_PiYG.rgb\n",
      "MPL_PRGn.rgb\n",
      "MPL_prism.rgb\n",
      "MPL_PuBu.rgb\n",
      "MPL_PuBuGn.rgb\n",
      "MPL_PuOr.rgb\n",
      "MPL_PuRd.rgb\n",
      "MPL_Purples.rgb\n",
      "MPL_rainbow.rgb\n",
      "MPL_RdBu.rgb\n",
      "MPL_RdGy.rgb\n",
      "MPL_RdPu.rgb\n",
      "MPL_RdYlBu.rgb\n",
      "MPL_RdYlGn.rgb\n",
      "MPL_Reds.rgb\n",
      "MPL_s3pcpn.rgb\n",
      "MPL_s3pcpn_l.rgb\n",
      "MPL_seismic.rgb\n",
      "MPL_Set1.rgb\n",
      "MPL_Set2.rgb\n",
      "MPL_Set3.rgb\n",
      "MPL_Spectral.rgb\n",
      "MPL_spring.rgb\n",
      "MPL_sstanom.rgb\n",
      "MPL_StepSeq.rgb\n",
      "MPL_summer.rgb\n",
      "MPL_terrain.rgb\n",
      "MPL_viridis.rgb\n",
      "MPL_winter.rgb\n",
      "MPL_YlGn.rgb\n",
      "MPL_YlGnBu.rgb\n",
      "MPL_YlOrBr.rgb\n",
      "MPL_YlOrRd.rgb\n",
      "NCV_banded.rgb\n",
      "NCV_blue_red.rgb\n",
      "NCV_blu_red.rgb\n",
      "NCV_bright.rgb\n",
      "NCV_gebco.rgb\n",
      "NCV_jaisnd.rgb\n",
      "NCV_jet.rgb\n",
      "NCV_manga.rgb\n",
      "NCV_rainbow2.rgb\n",
      "NCV_roullet.rgb\n",
      "OceanLakeLandSnow.rgb\n",
      "Oranges_mpl.rgb\n",
      "OrRd_mpl.rgb\n",
      "Paired_mpl.rgb\n",
      "Pastel1_mpl.rgb\n",
      "Pastel2_mpl.rgb\n",
      "PiYG_mpl.rgb\n",
      "PRGn_mpl.rgb\n",
      "PuBuGn_mpl.rgb\n",
      "PuBu_mpl.rgb\n",
      "PuOr_mpl.rgb\n",
      "PuRd_mpl.rgb\n",
      "Purples_mpl.rgb\n",
      "RdBu_mpl.rgb\n",
      "RdGy_mpl.rgb\n",
      "RdPu_mpl.rgb\n",
      "RdYlBu_mpl.rgb\n",
      "RdYlGn_mpl.rgb\n",
      "Reds_mpl.rgb\n",
      "Set1_mpl.rgb\n",
      "Set2_mpl.rgb\n",
      "Set3_mpl.rgb\n",
      "Spectral_mpl.rgb\n",
      "StepSeq25.rgb\n",
      "StepSeq_mpl.rgb\n",
      "SVG_bhw3_22.rgb\n",
      "SVG_es_landscape_79.rgb\n",
      "SVG_feb_sunrise.rgb\n",
      "SVG_foggy_sunrise.rgb\n",
      "SVG_fs2006.rgb\n",
      "SVG_Gallet13.rgb\n",
      "SVG_Lindaa06.rgb\n",
      "SVG_Lindaa07.rgb\n",
      "ViBlGrWhYeOrRe.rgb\n",
      "WhBlGrYeRe.rgb\n",
      "WhBlReWh.rgb\n",
      "WhiteBlue.rgb\n",
      "WhiteBlueGreenYellowRed.rgb\n",
      "WhiteGreen.rgb\n",
      "WhiteYellowOrangeRed.rgb\n",
      "WhViBlGrYeOrRe.rgb\n",
      "WhViBlGrYeOrReWh.rgb\n",
      "YlGnBu_mpl.rgb\n",
      "YlGn_mpl.rgb\n",
      "YlOrBr_mpl.rgb\n",
      "YlOrRd_mpl.rgb\n"
     ]
    }
   ],
   "source": [
    "list_colors.main()"
   ]
  },
  {
   "cell_type": "markdown",
   "metadata": {},
   "source": [
    "## Importing a Colormap and Using It\n",
    "\n",
    "Now that we see our options of which colormaps are available, it's time to choose one. Let's try out a couple of them. Simply input the name of the colormap file you want to be imported as the argument for \"grab\"."
   ]
  },
  {
   "cell_type": "code",
   "execution_count": 3,
   "metadata": {
    "collapsed": false
   },
   "outputs": [
    {
     "data": {
      "image/png": "[encoded data removed]",
      "text/plain": [
       "<matplotlib.figure.Figure at 0x6b932e8>"
      ]
     },
     "metadata": {},
     "output_type": "display_data"
    }
   ],
   "source": [
    "#Choose the colormap file you want\n",
    "colormap = \"3gauss.rgb\"\n",
    "\n",
    "#Supply it to grab.main()\n",
    "colors, num_colors = grab.main(colormap)\n",
    "\n",
    "#Visualize it\n",
    "levels = [0, .2, .4, .6, .8, 1, 1.2, 1.4, 1.6, 1.8, 2, 2.2, 2.4, 2.6, 2.8, 3]\n",
    "cmap = mpl.colors.ListedColormap(colors)\n",
    "norm = mc.BoundaryNorm(levels, num_colors)\n",
    "plt.contourf([[0, 3], [0, 3]], levels= levels, cmap=cmap, vmin=0, vmax=3, norm = norm)\n",
    "plt.show()"
   ]
  },
  {
   "cell_type": "markdown",
   "metadata": {},
   "source": [
    "Let's try out a few more..."
   ]
  },
  {
   "cell_type": "code",
   "execution_count": 4,
   "metadata": {
    "collapsed": false
   },
   "outputs": [
    {
     "data": {
      "image/png": "[encoded data removed]",
      "text/plain": [
       "<matplotlib.figure.Figure at 0x74fe2e8>"
      ]
     },
     "metadata": {},
     "output_type": "display_data"
    },
    {
     "data": {
      "image/png": "[encoded data removed]",
      "text/plain": [
       "<matplotlib.figure.Figure at 0x7554588>"
      ]
     },
     "metadata": {},
     "output_type": "display_data"
    },
    {
     "data": {
      "image/png": "[encoded data removed]",
      "text/plain": [
       "<matplotlib.figure.Figure at 0x79633c8>"
      ]
     },
     "metadata": {},
     "output_type": "display_data"
    },
    {
     "data": {
      "image/png": "[encoded data removed]",
      "text/plain": [
       "<matplotlib.figure.Figure at 0x7b4c320>"
      ]
     },
     "metadata": {},
     "output_type": "display_data"
    }
   ],
   "source": [
    "colormaps = [\"3saw.rgb\", \"Gallet13_svg.rgb\", \"BrBG_mpl.rgb\", \"bhw3_22_svg.rgb\"]\n",
    "\n",
    "for colormap in colormaps:\n",
    "    colors, num_colors = grab.main(colormap)\n",
    "\n",
    "    levels = [0, .2, .4, .6, .8, 1, 1.2, 1.4, 1.6, 1.8, 2, 2.2, 2.4, 2.6, 2.8, 3]\n",
    "    cmap = mpl.colors.ListedColormap(colors)\n",
    "    norm = mc.BoundaryNorm(levels, num_colors)\n",
    "    plt.contourf([[0, 3], [0, 3]], levels= levels, cmap=cmap, vmin=0, vmax=3, norm = norm)\n",
    "    plt.title(colormap)\n",
    "    plt.show()"
   ]
  },
  {
   "cell_type": "code",
   "execution_count": null,
   "metadata": {
    "collapsed": true
   },
   "outputs": [],
   "source": []
  }
 ],
 "metadata": {
  "kernelspec": {
   "display_name": "Python 2",
   "language": "python",
   "name": "python2"
  },
  "language_info": {
   "codemirror_mode": {
    "name": "ipython",
    "version": 2
   },
   "file_extension": ".py",
   "mimetype": "text/x-python",
   "name": "python",
   "nbconvert_exporter": "python",
   "pygments_lexer": "ipython2",
   "version": "2.7.12"
  }
 },
 "nbformat": 4,
 "nbformat_minor": 0
}
