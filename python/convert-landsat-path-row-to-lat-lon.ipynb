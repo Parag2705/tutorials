{
 "cells": [
  {
   "cell_type": "markdown",
   "metadata": {},
   "source": [
    "---\n",
    "layout: single\n",
    "title: 'Convert lat/lon coordinates to Landsat 8 path/row in Python'\n",
    "date: 2016-08-04\n",
    "authors: [Zach Schira]\n",
    "category: [tutorials]\n",
    "excerpt: 'This tutorial demonstrates how to convert Landsat 8 path/row coordinates to latitude and longitude in Python.'\n",
    "sidebar:\n",
    "  nav:\n",
    "author_profile: false\n",
    "comments: true\n",
    "lang: [python]\n",
    "lib: [ogr, shapely]\n",
    "---\n",
    "\n",
    "The Landsat 8 satellite uses the [WRS-2](https://landsat.gsfc.nasa.gov/the-worldwide-reference-system/) reference system to catalog data. This referece system uses paths and rows, which are derived from the satellites orbit. You may find it useful to be able to convert between the WRS-2 paths and rows to latitude and longitude coordinates. This tutorial will demonstrate how to programmatically perform the conversion in python.\n",
    "\n",
    "## Objectives\n",
    "\n",
    "- Import WRS-2 shapefiles\n",
    "- Define point with given latitude and longitude coordinates\n",
    "- Find corresponding path/row\n",
    "\n",
    "## Dependencies\n",
    "\n",
    "- ogr\n",
    "- shapely.wkt\n",
    "- shapely.geometry"
   ]
  },
  {
   "cell_type": "code",
   "execution_count": 1,
   "metadata": {},
   "outputs": [],
   "source": [
    "import io\n",
    "import ogr\n",
    "import shapely.wkt\n",
    "import shapely.geometry\n",
    "import urllib.request\n",
    "import zipfile"
   ]
  },
  {
   "cell_type": "markdown",
   "metadata": {},
   "source": [
    "First we need to download and unzip the WRS-2 shapefiles which can be found on the USGS Landsat website.\n",
    "For this tutorial we will use the descending orbit (daytime) data for Landsat 4-8, but ascending data and data for Landsat 1-3 are also available: https://www.usgs.gov/land-resources/nli/landsat/landsat-path-row-shapefiles-and-kml-files"
   ]
  },
  {
   "cell_type": "code",
   "execution_count": 2,
   "metadata": {},
   "outputs": [],
   "source": [
    "url = \"https://prd-wret.s3-us-west-2.amazonaws.com/assets/palladium/production/s3fs-public/atoms/files/WRS2_descending_0.zip\"\n",
    "r = urllib.request.urlopen(url)\n",
    "zip_file = zipfile.ZipFile(io.BytesIO(r.read()))\n",
    "zip_file.extractall(\"landsat-path-row\")\n",
    "zip_file.close()"
   ]
  },
  {
   "cell_type": "markdown",
   "metadata": {},
   "source": [
    "Then we can read the shapefile that we just downloaded."
   ]
  },
  {
   "cell_type": "code",
   "execution_count": 3,
   "metadata": {},
   "outputs": [],
   "source": [
    "shapefile = 'landsat-path-row/WRS2_descending.shp'\n",
    "wrs = ogr.Open(shapefile)\n",
    "layer = wrs.GetLayer(0)"
   ]
  },
  {
   "cell_type": "markdown",
   "metadata": {},
   "source": [
    "Define latitude and longitude coordinates for your desired location. For this example we will use the coordinates of Boulder, Colorado. With these coordinates, we can create a point using shapely. You also must define the mode as ascending or descending ('A', 'D'). Ascending corresponds to nightime images, and descending to daytime images."
   ]
  },
  {
   "cell_type": "code",
   "execution_count": 4,
   "metadata": {},
   "outputs": [],
   "source": [
    "lon = -105.2705\n",
    "lat = 40.0150\n",
    "point = shapely.geometry.Point(lon, lat)\n",
    "mode = 'D'"
   ]
  },
  {
   "cell_type": "markdown",
   "metadata": {},
   "source": [
    "Now we will define a helper function called `checkPoint`. This function will take the geometry from a feature, which corresponds to a specific path and row, and check to see if the point we are looking for is contained in the feature, and if it is the correct mode. We will then loop through each feature, until we find one with our point. After this is done, we will print the path and row corresponding to the desired point."
   ]
  },
  {
   "cell_type": "code",
   "execution_count": 5,
   "metadata": {},
   "outputs": [
    {
     "name": "stdout",
     "output_type": "stream",
     "text": [
      "Path:  34 Row:  32\n"
     ]
    }
   ],
   "source": [
    "def checkPoint(feature, point, mode):\n",
    "    geom = feature.GetGeometryRef() #Get geometry from feature\n",
    "    shape = shapely.wkt.loads(geom.ExportToWkt()) #Import geometry into shapely to easily work with our point\n",
    "    if point.within(shape) and feature['MODE']==mode:\n",
    "        return True\n",
    "    else:\n",
    "        return False\n",
    "\n",
    "i=0\n",
    "while not checkPoint(layer.GetFeature(i), point, mode):\n",
    "    i += 1\n",
    "feature = layer.GetFeature(i)\n",
    "path = feature['PATH']\n",
    "row = feature['ROW']\n",
    "print('Path: ', path, 'Row: ', row)"
   ]
  },
  {
   "cell_type": "code",
   "execution_count": null,
   "metadata": {},
   "outputs": [],
   "source": []
  }
 ],
 "metadata": {
  "anaconda-cloud": {},
  "kernelspec": {
   "display_name": "Python 3",
   "language": "python",
   "name": "python3"
  },
  "language_info": {
   "codemirror_mode": {
    "name": "ipython",
    "version": 3
   },
   "file_extension": ".py",
   "mimetype": "text/x-python",
   "name": "python",
   "nbconvert_exporter": "python",
   "pygments_lexer": "ipython3",
   "version": "3.6.7"
  }
 },
 "nbformat": 4,
 "nbformat_minor": 1
}
