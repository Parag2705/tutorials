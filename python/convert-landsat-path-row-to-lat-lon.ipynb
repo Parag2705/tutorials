{
 "cells": [
  {
   "cell_type": "markdown",
   "metadata": {},
   "source": [
    "---\n",
    "layout: single\n",
    "title: 'Convert Landsat 8 path/row to lat/lon coordinates in Python'\n",
    "date: 2016-08-04\n",
    "authors: [Zach Schira]\n",
    "category: [tutorials]\n",
    "excerpt: 'This tutorial demonstrates how to convert Landsat 8 path/row coordinates to latitude and longitude in Python.'\n",
    "sidebar:\n",
    "  nav:\n",
    "author_profile: false\n",
    "comments: true\n",
    "lang: [python]\n",
    "lib: [ogr, shapely, urllib, zipfile]\n",
    "---\n",
    "\n",
    "The Landsat 8 satellite uses the [WRS-2](http://landsat.gsfc.nasa.gov/the-worldwide-reference-system/) reference system to catalog data. This referece system uses paths and rows, which are derived from the satellites orbit. You may find it useful to be able to convert between the WRS-2 paths and rows to latitude and longitude coordinates. This tutorial will demonstrate how to programmatically perform the conversion in python.\n",
    "\n",
    "## Objectives\n",
    "\n",
    "- Import WRS-2 shapefiles\n",
    "- Define point with given latitude and longitude coordinates\n",
    "- Find corresponding path/row\n",
    "\n",
    "## Dependencies\n",
    "\n",
    "- ogr\n",
    "- shapely.wkt\n",
    "- shapely.geometry\n",
    "- urllib\n",
    "- zipfile"
   ]
  },
  {
   "cell_type": "code",
   "execution_count": 1,
   "metadata": {
    "collapsed": false
   },
   "outputs": [],
   "source": [
    "import ogr\n",
    "import shapely.wkt\n",
    "import shapely.geometry\n",
    "import urllib\n",
    "import zipfile"
   ]
  },
  {
   "cell_type": "markdown",
   "metadata": {},
   "source": [
    "First we need to download and unzip the WRS-2 shapefiles which can be found on the USGS Landsat website."
   ]
  },
  {
   "cell_type": "code",
   "execution_count": 4,
   "metadata": {
    "collapsed": false
   },
   "outputs": [],
   "source": [
    "url = \"https://landsat.usgs.gov/sites/default/files/documents/wrs2_asc_desc.zip\"\n",
    "filehandle, _ = urllib.urlretrieve(url)\n",
    "zip_file_object = zipfile.ZipFile(filehandle, 'r')\n",
    "zip_file_object.extractall(\".\")\n",
    "zip_file_object.close()"
   ]
  },
  {
   "cell_type": "markdown",
   "metadata": {},
   "source": [
    "Then we can read the shapefile that we just downloaded."
   ]
  },
  {
   "cell_type": "code",
   "execution_count": 5,
   "metadata": {
    "collapsed": false
   },
   "outputs": [],
   "source": [
    "shapefile = 'wrs2_asc_desc/wrs2_asc_desc.shp'\n",
    "wrs = ogr.Open(shapefile)\n",
    "layer = wrs.GetLayer(0)"
   ]
  },
  {
   "cell_type": "markdown",
   "metadata": {},
   "source": [
    "Define latitude and longitude coordinates for your desired location. For this example we will use the coordinates of Boulder, Colorado. With these coordinates, we can create a point using shapely. You also must define the mode as ascending or descending ('A', 'D'). Ascending corresponds to nightime images, and descending to daytime images."
   ]
  },
  {
   "cell_type": "code",
   "execution_count": 6,
   "metadata": {
    "collapsed": false
   },
   "outputs": [],
   "source": [
    "lon = -105.2705\n",
    "lat = 40.0150\n",
    "point = shapely.geometry.Point(lon, lat)\n",
    "mode = 'D'"
   ]
  },
  {
   "cell_type": "markdown",
   "metadata": {},
   "source": [
    "Now we will define a helper function called `checkPoint`. This function will take the geometry from a feature, which corresponds to a specific path and row, and check to see if the point we are looking for is contained in the feature, and if it is the correct mode. We will then loop through each feature, until we find one with our point. After this is done, we will print the path and row corresponding to the desired point."
   ]
  },
  {
   "cell_type": "code",
   "execution_count": 7,
   "metadata": {
    "collapsed": false
   },
   "outputs": [
    {
     "name": "stdout",
     "output_type": "stream",
     "text": [
      "('Path: ', 34, 'Row: ', 32)\n"
     ]
    }
   ],
   "source": [
    "def checkPoint(feature, point, mode):\n",
    "    geom = feature.GetGeometryRef() #Get geometry from feature\n",
    "    shape = shapely.wkt.loads(geom.ExportToWkt()) #Import geometry into shapely to easily work with our point\n",
    "    if point.within(shape) and feature['MODE']==mode:\n",
    "        return True\n",
    "    else:\n",
    "        return False\n",
    "\n",
    "i=0\n",
    "while not checkPoint(layer.GetFeature(i), point, mode):\n",
    "    i += 1\n",
    "feature = layer.GetFeature(i)\n",
    "path = feature['PATH']\n",
    "row = feature['ROW']\n",
    "print('Path: ', path, 'Row: ', row)"
   ]
  }
 ],
 "metadata": {
  "anaconda-cloud": {},
  "kernelspec": {
   "display_name": "Python [sad]",
   "language": "python",
   "name": "Python [sad]"
  },
  "language_info": {
   "codemirror_mode": {
    "name": "ipython",
    "version": 2
   },
   "file_extension": ".py",
   "mimetype": "text/x-python",
   "name": "python",
   "nbconvert_exporter": "python",
   "pygments_lexer": "ipython2",
   "version": "2.7.12"
  }
 },
 "nbformat": 4,
 "nbformat_minor": 0
}
