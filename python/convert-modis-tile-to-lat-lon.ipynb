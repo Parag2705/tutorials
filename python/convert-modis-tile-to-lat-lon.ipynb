{
 "cells": [
  {
   "cell_type": "markdown",
   "metadata": {},
   "source": [
    "---\n",
    "layout: single\n",
    "title: 'Get Modis sinusoidal tile grid positions from latitude and longitude coordinates in Python'\n",
    "date: 2016-08-04\n",
    "authors: [Zach Schira]\n",
    "category: [tutorials]\n",
    "excerpt: 'This tutorial demonstrates how to convert Modis sinusoidal tile grid positions to latitude and longitude in Python.'\n",
    "sidebar:\n",
    "  nav:\n",
    "author_profile: false\n",
    "comments: true\n",
    "lang: [python]\n",
    "lib: [numpy, urllib2]\n",
    "---\n",
    "\n",
    "Many MODIS data products are organized in a tile grid based on a sinusoidal projection. \n",
    "You can find an online calculator [here](http://landweb.nascom.nasa.gov/cgi-bin/developer/tilemap.cgi), that will convert from tiles to latitude and longitude coordinates. \n",
    "This tutorial will demonstrate how to perform this conversion in Python.\n",
    "\n",
    "## Objectives\n",
    "\n",
    "- Read in MODIS tile bounding coordinates\n",
    "- Define point with given latitude and longitude coordinates\n",
    "- Find corresponding tile\n",
    "\n",
    "## Dependencies\n",
    "\n",
    "- wget\n",
    "- numpy\n",
    "- urllib2"
   ]
  },
  {
   "cell_type": "code",
   "execution_count": 1,
   "metadata": {
    "collapsed": true
   },
   "outputs": [],
   "source": [
    "import numpy as np\n",
    "import urllib2"
   ]
  },
  {
   "cell_type": "markdown",
   "metadata": {},
   "source": [
    "MODIS provides a text file containing the range of latitude and longitude coordinates for each tile. We will load this data into a numpy two dimensional array. Next, we will define the coordinates of the point we would like to convert."
   ]
  },
  {
   "cell_type": "code",
   "execution_count": 2,
   "metadata": {
    "collapsed": false
   },
   "outputs": [
    {
     "name": "stdout",
     "output_type": "stream",
     "text": [
      "--2016-12-14 16:28:08--  https://modis-land.gsfc.nasa.gov/pdf/sn_bound_10deg.txt\n",
      "Resolving modis-land.gsfc.nasa.gov... 129.164.179.244, 2001:4d0:2310:150::244\n",
      "Connecting to modis-land.gsfc.nasa.gov|129.164.179.244|:443... connected.\n",
      "HTTP request sent, awaiting response... 200 OK\n",
      "Length: 32585 (32K) [text/plain]\n",
      "Saving to: ‘sn_bound_10deg.txt’\n",
      "\n",
      "sn_bound_10deg.txt  100%[===================>]  31.82K  --.-KB/s    in 0.05s   \n",
      "\n",
      "2016-12-14 16:28:08 (610 KB/s) - ‘sn_bound_10deg.txt’ saved [32585/32585]\n",
      "\n"
     ]
    }
   ],
   "source": [
    "!wget https://modis-land.gsfc.nasa.gov/pdf/sn_bound_10deg.txt"
   ]
  },
  {
   "cell_type": "code",
   "execution_count": 3,
   "metadata": {
    "collapsed": false
   },
   "outputs": [],
   "source": [
    "# first seven rows contain header information\n",
    "# bottom 3 rows are not data\n",
    "data = np.genfromtxt('sn_bound_10deg.txt', \n",
    "                     skip_header = 7, \n",
    "                     skip_footer = 3)\n",
    "lat = 40.015\n",
    "lon = -105.2705"
   ]
  },
  {
   "cell_type": "markdown",
   "metadata": {},
   "source": [
    "Now we can loop through each row (corresponds to one tile) in the array and check to see if our point is contained in the range of coordinates for that tile."
   ]
  },
  {
   "cell_type": "code",
   "execution_count": 4,
   "metadata": {
    "collapsed": true
   },
   "outputs": [],
   "source": [
    "in_tile = False\n",
    "i = 0\n",
    "while(not in_tile):\n",
    "    in_tile = lat >= data[i, 4] and lat <= data[i, 5] and lon >= data[i, 2] and lon <= data[i, 3]\n",
    "    i += 1"
   ]
  },
  {
   "cell_type": "markdown",
   "metadata": {},
   "source": [
    "Once you reach a tile including the point you are searching for the code will exit the loop, and you can print the vertical and horizontal position of the tile."
   ]
  },
  {
   "cell_type": "code",
   "execution_count": 5,
   "metadata": {
    "collapsed": false
   },
   "outputs": [
    {
     "name": "stdout",
     "output_type": "stream",
     "text": [
      "('Vertical Tile:', 4.0, 'Horizontal Tile:', 9.0)\n"
     ]
    }
   ],
   "source": [
    "vert = data[i-1, 0]\n",
    "horiz = data[i-1, 1]\n",
    "print('Vertical Tile:', vert, 'Horizontal Tile:', horiz)"
   ]
  }
 ],
 "metadata": {
  "anaconda-cloud": {},
  "kernelspec": {
   "display_name": "Python [sad]",
   "language": "python",
   "name": "Python [sad]"
  },
  "language_info": {
   "codemirror_mode": {
    "name": "ipython",
    "version": 2
   },
   "file_extension": ".py",
   "mimetype": "text/x-python",
   "name": "python",
   "nbconvert_exporter": "python",
   "pygments_lexer": "ipython2",
   "version": "2.7.12"
  }
 },
 "nbformat": 4,
 "nbformat_minor": 0
}
