{
 "cells": [
  {
   "cell_type": "markdown",
   "metadata": {},
   "source": [
    "---\n",
    "layout: single\n",
    "title: 'Acquiring U.S. census data with Python and cenpy'\n",
    "date: 2016-06-28\n",
    "authors: [Zach Schira]\n",
    "category: [tutorials]\n",
    "excerpt: 'This tutorial outlines the use of the Cenpy package to search for, and acquire specific census data.'\n",
    "sidebar:\n",
    "  nav:\n",
    "author_profile: false\n",
    "comments: true\n",
    "lang: [python]\n",
    "lib: [pandas, cenpy, pysal]\n",
    "---\n"
   ]
  },
  {
   "cell_type": "markdown",
   "metadata": {
    "collapsed": true
   },
   "source": [
    "There are several useful online sources for accessing census data provided both by the US census Bureau ([American Factfinder](http://factfinder.census.gov)), and outside sources. These sources, however, are not conducive to large scale data aquisition and analysis. The [Cenpy](https://pypi.python.org/pypi/cenpy/0.9.1) python package allows for programmitic access of this data through the [Census Bureau's API](http://www.census.gov/data/developers/data-sets.html).\n",
    "\n",
    "This tutorial outlines the use of the Cenpy package to search for, and acquire specific census data. Cenpy saves this data as a [Pandas](http://pandas.pydata.org/) dataframe. These dataframes allow for easy access and analysis of data within python. For easy visualization of this data look into the [GeoPandas](http://geopandas.org/) package. This package builds on the base Pandas package to add tools for geospatial data analysis.\n",
    "\n",
    "## Objectives\n",
    "- Install Cenpy package\n",
    "- Search for desired census data\n",
    "- Download and store data\n",
    "\n",
    "## Dependencies \n",
    "The Cenpy package depends on pandas and [requests](http://docs.python-requests.org/en/master/). Ensure that python and pip are already properly installed then use the following commands to install cenpy."
   ]
  },
  {
   "cell_type": "code",
   "execution_count": null,
   "metadata": {
    "collapsed": false,
    "scrolled": true
   },
   "outputs": [],
   "source": [
    "!pip install pandas\n",
    "!pip install requests\n",
    "!pip install cenpy\n",
    "!pip install pysal"
   ]
  },
  {
   "cell_type": "code",
   "execution_count": 1,
   "metadata": {
    "collapsed": false
   },
   "outputs": [],
   "source": [
    "import pandas as pd\n",
    "import cenpy as cen\n",
    "import pysal"
   ]
  },
  {
   "cell_type": "markdown",
   "metadata": {},
   "source": [
    "## Finding Data\n",
    "The cenpy explorer module allows you to view all of the available [United States Census Bureau API's](http://www.census.gov/data/developers/data-sets.html). "
   ]
  },
  {
   "cell_type": "code",
   "execution_count": 2,
   "metadata": {
    "collapsed": false,
    "scrolled": true
   },
   "outputs": [
    {
     "data": {
      "text/html": [
       "<div>\n",
       "<table border=\"1\" class=\"dataframe\">\n",
       "  <thead>\n",
       "    <tr style=\"text-align: right;\">\n",
       "      <th></th>\n",
       "      <th>0</th>\n",
       "      <th>1</th>\n",
       "    </tr>\n",
       "  </thead>\n",
       "  <tbody>\n",
       "    <tr>\n",
       "      <th>0</th>\n",
       "      <td>2012acs3</td>\n",
       "      <td>2012 American Community Survey: 3-Year Estimates</td>\n",
       "    </tr>\n",
       "    <tr>\n",
       "      <th>1</th>\n",
       "      <td>NONEMP2013</td>\n",
       "      <td>2013 Nonemployer Statistics: Non Employer Stat...</td>\n",
       "    </tr>\n",
       "    <tr>\n",
       "      <th>2</th>\n",
       "      <td>BDSFirms</td>\n",
       "      <td>Time Series Business Dynamics Statistics: Firm...</td>\n",
       "    </tr>\n",
       "    <tr>\n",
       "      <th>3</th>\n",
       "      <td>POPESTprmagesex2013</td>\n",
       "      <td>Vintage 2013 Population Estimates: Puerto Rico...</td>\n",
       "    </tr>\n",
       "    <tr>\n",
       "      <th>4</th>\n",
       "      <td>POPESTcty2013</td>\n",
       "      <td>Vintage 2013 Population Estimates: County Tota...</td>\n",
       "    </tr>\n",
       "  </tbody>\n",
       "</table>\n",
       "</div>"
      ],
      "text/plain": [
       "                     0                                                  1\n",
       "0             2012acs3   2012 American Community Survey: 3-Year Estimates\n",
       "1           NONEMP2013  2013 Nonemployer Statistics: Non Employer Stat...\n",
       "2             BDSFirms  Time Series Business Dynamics Statistics: Firm...\n",
       "3  POPESTprmagesex2013  Vintage 2013 Population Estimates: Puerto Rico...\n",
       "4        POPESTcty2013  Vintage 2013 Population Estimates: County Tota..."
      ]
     },
     "execution_count": 2,
     "metadata": {},
     "output_type": "execute_result"
    }
   ],
   "source": [
    "datasets = list(cen.explorer.available(verbose=True).items())\n",
    "\n",
    "# print first rows of the dataframe containing datasets\n",
    "pd.DataFrame(datasets).head()"
   ]
  },
  {
   "cell_type": "markdown",
   "metadata": {},
   "source": [
    "Passing the name of a specific API to `explorer.explain()` will give a description of the data available. For this example, we will use the 2012 American Community Service 1 year data (`2012acs1`)."
   ]
  },
  {
   "cell_type": "code",
   "execution_count": 3,
   "metadata": {
    "collapsed": false
   },
   "outputs": [
    {
     "data": {
      "text/plain": [
       "{'2012 American Community Survey: 1-Year Estimates': \"The American Community Survey (ACS) is a nationwide survey designed to provide communities a fresh look at how they are changing. The ACS replaced the decennial census long form in 2010 and thereafter by collecting long form type information throughout the decade rather than only once every 10 years.  Questionnaires are mailed to a sample of addresses to obtain information about households -- that is, about each person and the housing unit itself.  The American Community Survey produces demographic, social, housing and economic estimates in the form of 1-year, 3-year and 5-year estimates based on population thresholds. The strength of the ACS is in estimating population and housing characteristics. It produces estimates for small areas, including census tracts and population subgroups.  Although the ACS produces population, demographic and housing unit estimates,it is the Census Bureau's Population Estimates Program that produces and disseminates the official estimates of the population for the nation, states, counties, cities and towns, and estimates of housing units for states and counties.  For 2010 and other decennial census years, the Decennial Census provides the official counts of population and housing units.\"}"
      ]
     },
     "execution_count": 3,
     "metadata": {},
     "output_type": "execute_result"
    }
   ],
   "source": [
    "dataset = '2012acs1'\n",
    "cen.explorer.explain(dataset)"
   ]
  },
  {
   "cell_type": "markdown",
   "metadata": {},
   "source": [
    "The base module allows you to establish a connection with the desired API that will be used later to acquire data."
   ]
  },
  {
   "cell_type": "code",
   "execution_count": 4,
   "metadata": {
    "collapsed": false
   },
   "outputs": [
    {
     "data": {
      "text/plain": [
       "Connection to 2012 American Community Survey: 1-Year Estimates (ID: http://api.census.gov/data/id/2012acs1)"
      ]
     },
     "execution_count": 4,
     "metadata": {},
     "output_type": "execute_result"
    }
   ],
   "source": [
    "con = cen.base.Connection(dataset)\n",
    "con"
   ]
  },
  {
   "cell_type": "markdown",
   "metadata": {},
   "source": [
    "## Acquiring Data\n",
    "\n",
    "### Geographical specification\n",
    "\n",
    "Cenpy uses FIPS codes to specify the geographical extent of the data to be downloaded. The object `con` is our connection to the api, and the attribute `geographies` is a dictionary."
   ]
  },
  {
   "cell_type": "code",
   "execution_count": 5,
   "metadata": {
    "collapsed": false
   },
   "outputs": [
    {
     "name": "stdout",
     "output_type": "stream",
     "text": [
      "<class 'cenpy.remote.APIConnection'>\n",
      "<class 'dict'>\n",
      "dict_keys(['fips'])\n"
     ]
    }
   ],
   "source": [
    "print(type(con))\n",
    "print(type(con.geographies))\n",
    "print(con.geographies.keys())"
   ]
  },
  {
   "cell_type": "code",
   "execution_count": 6,
   "metadata": {
    "collapsed": false
   },
   "outputs": [
    {
     "data": {
      "text/html": [
       "<div>\n",
       "<table border=\"1\" class=\"dataframe\">\n",
       "  <thead>\n",
       "    <tr style=\"text-align: right;\">\n",
       "      <th></th>\n",
       "      <th>geoLevelId</th>\n",
       "      <th>name</th>\n",
       "      <th>optionalWithWCFor</th>\n",
       "      <th>requires</th>\n",
       "    </tr>\n",
       "  </thead>\n",
       "  <tbody>\n",
       "    <tr>\n",
       "      <th>0</th>\n",
       "      <td>500</td>\n",
       "      <td>congressional district</td>\n",
       "      <td>state</td>\n",
       "      <td>[state]</td>\n",
       "    </tr>\n",
       "    <tr>\n",
       "      <th>1</th>\n",
       "      <td>060</td>\n",
       "      <td>county subdivision</td>\n",
       "      <td>NaN</td>\n",
       "      <td>[state, county]</td>\n",
       "    </tr>\n",
       "    <tr>\n",
       "      <th>2</th>\n",
       "      <td>795</td>\n",
       "      <td>public use microdata area</td>\n",
       "      <td>NaN</td>\n",
       "      <td>[state]</td>\n",
       "    </tr>\n",
       "    <tr>\n",
       "      <th>3</th>\n",
       "      <td>320</td>\n",
       "      <td>metropolitan statistical area/micropolitan sta...</td>\n",
       "      <td>NaN</td>\n",
       "      <td>[state]</td>\n",
       "    </tr>\n",
       "    <tr>\n",
       "      <th>4</th>\n",
       "      <td>310</td>\n",
       "      <td>metropolitan statistical area/micropolitan sta...</td>\n",
       "      <td>NaN</td>\n",
       "      <td>NaN</td>\n",
       "    </tr>\n",
       "  </tbody>\n",
       "</table>\n",
       "</div>"
      ],
      "text/plain": [
       "  geoLevelId                                               name  \\\n",
       "0        500                             congressional district   \n",
       "1        060                                 county subdivision   \n",
       "2        795                          public use microdata area   \n",
       "3        320  metropolitan statistical area/micropolitan sta...   \n",
       "4        310  metropolitan statistical area/micropolitan sta...   \n",
       "\n",
       "  optionalWithWCFor         requires  \n",
       "0             state          [state]  \n",
       "1               NaN  [state, county]  \n",
       "2               NaN          [state]  \n",
       "3               NaN          [state]  \n",
       "4               NaN              NaN  "
      ]
     },
     "execution_count": 6,
     "metadata": {},
     "output_type": "execute_result"
    }
   ],
   "source": [
    "# print head of data frame in the geographies dictionary\n",
    "con.geographies['fips'].head()"
   ]
  },
  {
   "cell_type": "markdown",
   "metadata": {},
   "source": [
    "`geo_unit` and `geo_filter` are both necessary arguments for the `query()` function. `geo_unit` specifies the scale at which data should be taken. `geo_filter` then creates a filter to ensure too much data is not downloaded. The following example will download data from all counties in Colorado (state FIPS codes are accessible [here](https://www.mcc.co.mercer.pa.us/dps/state_fips_code_listing.htm))."
   ]
  },
  {
   "cell_type": "code",
   "execution_count": 7,
   "metadata": {
    "collapsed": true
   },
   "outputs": [],
   "source": [
    "g_unit = 'county:*'\n",
    "g_filter = {'state':'8'}"
   ]
  },
  {
   "cell_type": "markdown",
   "metadata": {},
   "source": [
    "### Specifying variables to extract\n",
    "\n",
    "The other argument taken by `query()` is cols. This is a list of columns taken from the variables of the API. These variables can be displayed using the `variables` function, however, due to the number of variables it is easier to use the [Social Explorer](https://www.socialexplorer.com/) site to find data you are interested in."
   ]
  },
  {
   "cell_type": "code",
   "execution_count": 8,
   "metadata": {
    "collapsed": false
   },
   "outputs": [
    {
     "name": "stdout",
     "output_type": "stream",
     "text": [
      "Number of variables in 2012acs1 : 68401\n"
     ]
    },
    {
     "data": {
      "text/html": [
       "<div>\n",
       "<table border=\"1\" class=\"dataframe\">\n",
       "  <thead>\n",
       "    <tr style=\"text-align: right;\">\n",
       "      <th></th>\n",
       "      <th>concept</th>\n",
       "      <th>label</th>\n",
       "      <th>predicateOnly</th>\n",
       "      <th>predicateType</th>\n",
       "    </tr>\n",
       "  </thead>\n",
       "  <tbody>\n",
       "    <tr>\n",
       "      <th>AIANHH</th>\n",
       "      <td>NaN</td>\n",
       "      <td>American Indian Area/Alaska Native Area/Hawaii...</td>\n",
       "      <td>NaN</td>\n",
       "      <td>NaN</td>\n",
       "    </tr>\n",
       "    <tr>\n",
       "      <th>AIANHHFP</th>\n",
       "      <td>NaN</td>\n",
       "      <td>American Indian Area/Alaska Native Area/Hawaii...</td>\n",
       "      <td>NaN</td>\n",
       "      <td>NaN</td>\n",
       "    </tr>\n",
       "    <tr>\n",
       "      <th>AIHHTLI</th>\n",
       "      <td>NaN</td>\n",
       "      <td>American Indian Trust Land/Hawaiian Home Land ...</td>\n",
       "      <td>NaN</td>\n",
       "      <td>NaN</td>\n",
       "    </tr>\n",
       "    <tr>\n",
       "      <th>AITS</th>\n",
       "      <td>NaN</td>\n",
       "      <td>American Indian Tribal Subdivision (FIPS)</td>\n",
       "      <td>NaN</td>\n",
       "      <td>NaN</td>\n",
       "    </tr>\n",
       "    <tr>\n",
       "      <th>AITSCE</th>\n",
       "      <td>NaN</td>\n",
       "      <td>American Indian Tribal Subdivision (Census)</td>\n",
       "      <td>NaN</td>\n",
       "      <td>NaN</td>\n",
       "    </tr>\n",
       "  </tbody>\n",
       "</table>\n",
       "</div>"
      ],
      "text/plain": [
       "         concept                                              label  \\\n",
       "AIANHH       NaN  American Indian Area/Alaska Native Area/Hawaii...   \n",
       "AIANHHFP     NaN  American Indian Area/Alaska Native Area/Hawaii...   \n",
       "AIHHTLI      NaN  American Indian Trust Land/Hawaiian Home Land ...   \n",
       "AITS         NaN          American Indian Tribal Subdivision (FIPS)   \n",
       "AITSCE       NaN        American Indian Tribal Subdivision (Census)   \n",
       "\n",
       "         predicateOnly predicateType  \n",
       "AIANHH             NaN           NaN  \n",
       "AIANHHFP           NaN           NaN  \n",
       "AIHHTLI            NaN           NaN  \n",
       "AITS               NaN           NaN  \n",
       "AITSCE             NaN           NaN  "
      ]
     },
     "execution_count": 8,
     "metadata": {},
     "output_type": "execute_result"
    }
   ],
   "source": [
    "var = con.variables\n",
    "print('Number of variables in', dataset, ':', len(var))\n",
    "con.variables.head()"
   ]
  },
  {
   "cell_type": "markdown",
   "metadata": {},
   "source": [
    "Related columns of data will always start with the same base prefix, so cenpy has an included function, `varslike`, that will create a list of column names that match the input pattern. It is also useful to add on the `NAME` and `GEOID` columns, as these will provide the name and geographic id of all data. In this example, we will use the [B01001A](https://www.socialexplorer.com/data/ACS2013/metadata/?ds=ACS13&table=B01001A), which gives data for sex by age within the desired geography. The identifier at the end corresponds to males or females of different age groups."
   ]
  },
  {
   "cell_type": "code",
   "execution_count": 9,
   "metadata": {
    "collapsed": false
   },
   "outputs": [],
   "source": [
    "cols = con.varslike('B01001A_')\n",
    "cols.extend(['NAME', 'GEOID'])"
   ]
  },
  {
   "cell_type": "markdown",
   "metadata": {},
   "source": [
    "With the three necessary arguments, data can be downloaded and saved as a pandas dataframe."
   ]
  },
  {
   "cell_type": "code",
   "execution_count": 10,
   "metadata": {
    "collapsed": false
   },
   "outputs": [
    {
     "name": "stderr",
     "output_type": "stream",
     "text": [
      "/home/max/anaconda3/lib/python3.5/site-packages/cenpy/remote.py:167: FutureWarning: convert_objects is deprecated.  Use the data-type specific converters pd.to_datetime, pd.to_timedelta and pd.to_numeric.\n",
      "  df[cols] = df[cols].convert_objects(convert_numeric=convert_numeric)\n"
     ]
    }
   ],
   "source": [
    "data = con.query(cols, geo_unit=g_unit, geo_filter=g_filter)\n",
    "# prints a deprecation warning because of how cenpy calls pandas"
   ]
  },
  {
   "cell_type": "markdown",
   "metadata": {},
   "source": [
    "It is useful to replace the default index with the data from the `NAME` or `GEOID` column, as these will give a more useful description of the data."
   ]
  },
  {
   "cell_type": "code",
   "execution_count": 11,
   "metadata": {
    "collapsed": false
   },
   "outputs": [
    {
     "data": {
      "text/html": [
       "<div>\n",
       "<table border=\"1\" class=\"dataframe\">\n",
       "  <thead>\n",
       "    <tr style=\"text-align: right;\">\n",
       "      <th></th>\n",
       "      <th>B01001A_030M</th>\n",
       "      <th>B01001A_031E</th>\n",
       "      <th>B01001A_031M</th>\n",
       "      <th>NAME</th>\n",
       "      <th>GEOID</th>\n",
       "    </tr>\n",
       "    <tr>\n",
       "      <th>NAME</th>\n",
       "      <th></th>\n",
       "      <th></th>\n",
       "      <th></th>\n",
       "      <th></th>\n",
       "      <th></th>\n",
       "    </tr>\n",
       "  </thead>\n",
       "  <tbody>\n",
       "    <tr>\n",
       "      <th>Adams County, Colorado</th>\n",
       "      <td>671</td>\n",
       "      <td>2483</td>\n",
       "      <td>670</td>\n",
       "      <td>Adams County, Colorado</td>\n",
       "      <td>05000US08001</td>\n",
       "    </tr>\n",
       "    <tr>\n",
       "      <th>Arapahoe County, Colorado</th>\n",
       "      <td>701</td>\n",
       "      <td>5125</td>\n",
       "      <td>688</td>\n",
       "      <td>Arapahoe County, Colorado</td>\n",
       "      <td>05000US08005</td>\n",
       "    </tr>\n",
       "    <tr>\n",
       "      <th>Boulder County, Colorado</th>\n",
       "      <td>636</td>\n",
       "      <td>2985</td>\n",
       "      <td>645</td>\n",
       "      <td>Boulder County, Colorado</td>\n",
       "      <td>05000US08013</td>\n",
       "    </tr>\n",
       "    <tr>\n",
       "      <th>Denver County, Colorado</th>\n",
       "      <td>654</td>\n",
       "      <td>5408</td>\n",
       "      <td>650</td>\n",
       "      <td>Denver County, Colorado</td>\n",
       "      <td>05000US08031</td>\n",
       "    </tr>\n",
       "    <tr>\n",
       "      <th>Douglas County, Colorado</th>\n",
       "      <td>384</td>\n",
       "      <td>1177</td>\n",
       "      <td>366</td>\n",
       "      <td>Douglas County, Colorado</td>\n",
       "      <td>05000US08035</td>\n",
       "    </tr>\n",
       "  </tbody>\n",
       "</table>\n",
       "</div>"
      ],
      "text/plain": [
       "                           B01001A_030M  B01001A_031E  B01001A_031M  \\\n",
       "NAME                                                                  \n",
       "Adams County, Colorado              671          2483           670   \n",
       "Arapahoe County, Colorado           701          5125           688   \n",
       "Boulder County, Colorado            636          2985           645   \n",
       "Denver County, Colorado             654          5408           650   \n",
       "Douglas County, Colorado            384          1177           366   \n",
       "\n",
       "                                                NAME         GEOID  \n",
       "NAME                                                                \n",
       "Adams County, Colorado        Adams County, Colorado  05000US08001  \n",
       "Arapahoe County, Colorado  Arapahoe County, Colorado  05000US08005  \n",
       "Boulder County, Colorado    Boulder County, Colorado  05000US08013  \n",
       "Denver County, Colorado      Denver County, Colorado  05000US08031  \n",
       "Douglas County, Colorado    Douglas County, Colorado  05000US08035  "
      ]
     },
     "execution_count": 11,
     "metadata": {},
     "output_type": "execute_result"
    }
   ],
   "source": [
    "data.index = data.NAME\n",
    "\n",
    "# print first five rows and last five columns\n",
    "data.ix[:5, -5:]"
   ]
  },
  {
   "cell_type": "markdown",
   "metadata": {},
   "source": [
    "### Topologically Integrated Geographic Encoding and Referencing (TIGER) data\n",
    "\n",
    "The Census TIGER API provides geomotries for desired geographic regions. For instance, perhaps we want to have additional information on each county such as area."
   ]
  },
  {
   "cell_type": "code",
   "execution_count": 12,
   "metadata": {
    "collapsed": false
   },
   "outputs": [
    {
     "data": {
      "text/plain": [
       "[{'name': 'AIANNHA', 'type': 'MapServer'},\n",
       " {'name': 'CBSA', 'type': 'MapServer'},\n",
       " {'name': 'Hydro_LargeScale', 'type': 'MapServer'},\n",
       " {'name': 'Hydro', 'type': 'MapServer'},\n",
       " {'name': 'Labels', 'type': 'MapServer'},\n",
       " {'name': 'Legislative', 'type': 'MapServer'},\n",
       " {'name': 'Places_CouSub_ConCity_SubMCD', 'type': 'MapServer'},\n",
       " {'name': 'PUMA_TAD_TAZ_UGA_ZCTA', 'type': 'MapServer'},\n",
       " {'name': 'Region_Division', 'type': 'MapServer'},\n",
       " {'name': 'School', 'type': 'MapServer'},\n",
       " {'name': 'Special_Land_Use_Areas', 'type': 'MapServer'},\n",
       " {'name': 'State_County', 'type': 'MapServer'},\n",
       " {'name': 'tigerWMS_ACS2013', 'type': 'MapServer'},\n",
       " {'name': 'tigerWMS_ACS2014', 'type': 'MapServer'},\n",
       " {'name': 'tigerWMS_ACS2015', 'type': 'MapServer'},\n",
       " {'name': 'tigerWMS_Census2010', 'type': 'MapServer'},\n",
       " {'name': 'tigerWMS_Current', 'type': 'MapServer'},\n",
       " {'name': 'tigerWMS_Econ2012', 'type': 'MapServer'},\n",
       " {'name': 'tigerWMS_PhysicalFeatures', 'type': 'MapServer'},\n",
       " {'name': 'Tracts_Blocks', 'type': 'MapServer'},\n",
       " {'name': 'Transportation_LargeScale', 'type': 'MapServer'},\n",
       " {'name': 'Transportation', 'type': 'MapServer'},\n",
       " {'name': 'TribalTracts', 'type': 'MapServer'},\n",
       " {'name': 'Urban', 'type': 'MapServer'},\n",
       " {'name': 'USLandmass', 'type': 'MapServer'}]"
      ]
     },
     "execution_count": 12,
     "metadata": {},
     "output_type": "execute_result"
    }
   ],
   "source": [
    "cen.tiger.available()"
   ]
  },
  {
   "cell_type": "markdown",
   "metadata": {
    "collapsed": true
   },
   "source": [
    "First, you must establish a connection to the TIGER API, then you can display the avaialable layers. No Tiger data is available for ACS 2012, so we will use the ACS 2013 for the sake of example, but ideally you will be able to find corresponding Tiger data."
   ]
  },
  {
   "cell_type": "code",
   "execution_count": 13,
   "metadata": {
    "collapsed": false
   },
   "outputs": [
    {
     "data": {
      "text/plain": [
       "{0: (ESRILayer) 2010 Census Public Use Microdata Areas,\n",
       " 1: (ESRILayer) 2010 Census Public Use Microdata Areas Labels,\n",
       " 2: (ESRILayer) 2010 Census ZIP Code Tabulation Areas,\n",
       " 3: (ESRILayer) 2010 Census ZIP Code Tabulation Areas Labels,\n",
       " 4: (ESRILayer) Tribal Census Tracts,\n",
       " 5: (ESRILayer) Tribal Census Tracts Labels,\n",
       " 6: (ESRILayer) Tribal Block Groups,\n",
       " 7: (ESRILayer) Tribal Block Groups Labels,\n",
       " 8: (ESRILayer) Census Tracts,\n",
       " 9: (ESRILayer) Census Tracts Labels,\n",
       " 10: (ESRILayer) Census Block Groups,\n",
       " 11: (ESRILayer) Census Block Groups Labels,\n",
       " 12: (ESRILayer) Unified School Districts,\n",
       " 13: (ESRILayer) Unified School Districts Labels,\n",
       " 14: (ESRILayer) Secondary School Districts,\n",
       " 15: (ESRILayer) Secondary School Districts Labels,\n",
       " 16: (ESRILayer) Elementary School Districts,\n",
       " 17: (ESRILayer) Elementary School Districts Labels,\n",
       " 18: (ESRILayer) Estates,\n",
       " 19: (ESRILayer) Estates Labels,\n",
       " 20: (ESRILayer) County Subdivisions,\n",
       " 21: (ESRILayer) County Subdivisions Labels,\n",
       " 22: (ESRILayer) Subbarrios,\n",
       " 23: (ESRILayer) Subbarrios Labels,\n",
       " 24: (ESRILayer) Consolidated Cities,\n",
       " 25: (ESRILayer) Consolidated Cities Labels,\n",
       " 26: (ESRILayer) Incorporated Places,\n",
       " 27: (ESRILayer) Incorporated Places Labels,\n",
       " 28: (ESRILayer) Census Designated Places,\n",
       " 29: (ESRILayer) Census Designated Places Labels,\n",
       " 30: (ESRILayer) Alaska Native Regional Corporations,\n",
       " 31: (ESRILayer) Alaska Native Regional Corporations Labels,\n",
       " 32: (ESRILayer) Tribal Subdivisions,\n",
       " 33: (ESRILayer) Tribal Subdivisions Labels,\n",
       " 34: (ESRILayer) Federal American Indian Reservations,\n",
       " 35: (ESRILayer) Federal American Indian Reservations Labels,\n",
       " 36: (ESRILayer) Off-Reservation Trust Lands,\n",
       " 37: (ESRILayer) Off-Reservation Trust Lands Labels,\n",
       " 38: (ESRILayer) State American Indian Reservations,\n",
       " 39: (ESRILayer) State American Indian Reservations Labels,\n",
       " 40: (ESRILayer) Hawaiian Home Lands,\n",
       " 41: (ESRILayer) Hawaiian Home Lands Labels,\n",
       " 42: (ESRILayer) Alaska Native Village Statistical Areas,\n",
       " 43: (ESRILayer) Alaska Native Village Statistical Areas Labels,\n",
       " 44: (ESRILayer) Oklahoma Tribal Statistical Areas,\n",
       " 45: (ESRILayer) Oklahoma Tribal Statistical Areas Labels,\n",
       " 46: (ESRILayer) State Designated Tribal Statistical Areas,\n",
       " 47: (ESRILayer) State Designated Tribal Statistical Areas Labels,\n",
       " 48: (ESRILayer) Tribal Designated Statistical Areas,\n",
       " 49: (ESRILayer) Tribal Designated Statistical Areas Labels,\n",
       " 50: (ESRILayer) American Indian Joint-Use Areas,\n",
       " 51: (ESRILayer) American Indian Joint-Use Areas Labels,\n",
       " 52: (ESRILayer) 113th Congressional Districts,\n",
       " 53: (ESRILayer) 113th Congressional Districts Labels,\n",
       " 54: (ESRILayer) 2013 State Legislative Districts - Upper,\n",
       " 55: (ESRILayer) 2013 State Legislative Districts - Upper Labels,\n",
       " 56: (ESRILayer) 2013 State Legislative Districts - Lower,\n",
       " 57: (ESRILayer) 2013 State Legislative Districts - Lower Labels,\n",
       " 58: (ESRILayer) Census Divisions,\n",
       " 59: (ESRILayer) Census Divisions Labels,\n",
       " 60: (ESRILayer) Census Regions,\n",
       " 61: (ESRILayer) Census Regions Labels,\n",
       " 62: (ESRILayer) 2010 Census Urbanized Areas,\n",
       " 63: (ESRILayer) 2010 Census Urbanized Areas Labels,\n",
       " 64: (ESRILayer) 2010 Census Urban Clusters,\n",
       " 65: (ESRILayer) 2010 Census Urban Clusters Labels,\n",
       " 66: (ESRILayer) Combined New England City and Town Areas,\n",
       " 67: (ESRILayer) Combined New England City and Town Areas Labels,\n",
       " 68: (ESRILayer) New England City and Town Area Divisions,\n",
       " 69: (ESRILayer) New England City and Town Area  Divisions Labels,\n",
       " 70: (ESRILayer) Metropolitan New England City and Town Areas,\n",
       " 71: (ESRILayer) Metropolitan New England City and Town Areas Labels,\n",
       " 72: (ESRILayer) Micropolitan New England City and Town Areas,\n",
       " 73: (ESRILayer) Micropolitan New England City and Town Areas Labels,\n",
       " 74: (ESRILayer) Combined Statistical Areas,\n",
       " 75: (ESRILayer) Combined Statistical Areas Labels,\n",
       " 76: (ESRILayer) Metropolitan Divisions,\n",
       " 77: (ESRILayer) Metropolitan Divisions Labels,\n",
       " 78: (ESRILayer) Metropolitan Statistical Areas,\n",
       " 79: (ESRILayer) Metropolitan Statistical Areas Labels,\n",
       " 80: (ESRILayer) Micropolitan Statistical Areas,\n",
       " 81: (ESRILayer) Micropolitan Statistical Areas Labels,\n",
       " 82: (ESRILayer) States,\n",
       " 83: (ESRILayer) States Labels,\n",
       " 84: (ESRILayer) Counties,\n",
       " 85: (ESRILayer) Counties Labels}"
      ]
     },
     "execution_count": 13,
     "metadata": {},
     "output_type": "execute_result"
    }
   ],
   "source": [
    "con.set_mapservice('tigerWMS_ACS2013')\n",
    "\n",
    "# print layers\n",
    "con.mapservice.layers"
   ]
  },
  {
   "cell_type": "markdown",
   "metadata": {},
   "source": [
    "The data retrieved earlier was at the county level, so we will use layer 84. Using the tiger connection, `query()` can retrieve the data, taking the layer and the geographic location as arguments."
   ]
  },
  {
   "cell_type": "code",
   "execution_count": 14,
   "metadata": {
    "collapsed": false
   },
   "outputs": [],
   "source": [
    "geodata = con.mapservice.query(layer=84, where='STATE=8')"
   ]
  },
  {
   "cell_type": "code",
   "execution_count": 15,
   "metadata": {
    "collapsed": false
   },
   "outputs": [
    {
     "data": {
      "text/html": [
       "<div>\n",
       "<table border=\"1\" class=\"dataframe\">\n",
       "  <thead>\n",
       "    <tr style=\"text-align: right;\">\n",
       "      <th></th>\n",
       "      <th>AREALAND</th>\n",
       "      <th>AREAWATER</th>\n",
       "      <th>BASENAME</th>\n",
       "      <th>CENTLAT</th>\n",
       "      <th>CENTLON</th>\n",
       "    </tr>\n",
       "  </thead>\n",
       "  <tbody>\n",
       "    <tr>\n",
       "      <th>0</th>\n",
       "      <td>1881237983</td>\n",
       "      <td>36592000</td>\n",
       "      <td>Boulder</td>\n",
       "      <td>+40.0924502</td>\n",
       "      <td>-105.3577112</td>\n",
       "    </tr>\n",
       "    <tr>\n",
       "      <th>1</th>\n",
       "      <td>396290895</td>\n",
       "      <td>4208401</td>\n",
       "      <td>Denver</td>\n",
       "      <td>+39.7620189</td>\n",
       "      <td>-104.8765880</td>\n",
       "    </tr>\n",
       "    <tr>\n",
       "      <th>2</th>\n",
       "      <td>6179976050</td>\n",
       "      <td>30284242</td>\n",
       "      <td>Pueblo</td>\n",
       "      <td>+38.1732359</td>\n",
       "      <td>-104.5127778</td>\n",
       "    </tr>\n",
       "    <tr>\n",
       "      <th>3</th>\n",
       "      <td>85478497</td>\n",
       "      <td>1411781</td>\n",
       "      <td>Broomfield</td>\n",
       "      <td>+39.9541268</td>\n",
       "      <td>-105.0527108</td>\n",
       "    </tr>\n",
       "    <tr>\n",
       "      <th>4</th>\n",
       "      <td>2958007403</td>\n",
       "      <td>16886462</td>\n",
       "      <td>Delta</td>\n",
       "      <td>+38.8613998</td>\n",
       "      <td>-107.8631974</td>\n",
       "    </tr>\n",
       "    <tr>\n",
       "      <th>5</th>\n",
       "      <td>4605714129</td>\n",
       "      <td>8166134</td>\n",
       "      <td>Cheyenne</td>\n",
       "      <td>+38.8281780</td>\n",
       "      <td>-102.6034141</td>\n",
       "    </tr>\n",
       "  </tbody>\n",
       "</table>\n",
       "</div>"
      ],
      "text/plain": [
       "     AREALAND  AREAWATER    BASENAME      CENTLAT       CENTLON\n",
       "0  1881237983   36592000     Boulder  +40.0924502  -105.3577112\n",
       "1   396290895    4208401      Denver  +39.7620189  -104.8765880\n",
       "2  6179976050   30284242      Pueblo  +38.1732359  -104.5127778\n",
       "3    85478497    1411781  Broomfield  +39.9541268  -105.0527108\n",
       "4  2958007403   16886462       Delta  +38.8613998  -107.8631974\n",
       "5  4605714129    8166134    Cheyenne  +38.8281780  -102.6034141"
      ]
     },
     "execution_count": 15,
     "metadata": {},
     "output_type": "execute_result"
    }
   ],
   "source": [
    "# preview geodata\n",
    "geodata.ix[:5, :5]"
   ]
  },
  {
   "cell_type": "markdown",
   "metadata": {},
   "source": [
    "This data can now be merged with the original data to create one pandas dataframe containing all of the relevant data."
   ]
  },
  {
   "cell_type": "code",
   "execution_count": 16,
   "metadata": {
    "collapsed": false,
    "scrolled": true
   },
   "outputs": [
    {
     "data": {
      "text/html": [
       "<div>\n",
       "<table border=\"1\" class=\"dataframe\">\n",
       "  <thead>\n",
       "    <tr style=\"text-align: right;\">\n",
       "      <th></th>\n",
       "      <th>NAME_y</th>\n",
       "      <th>OBJECTID</th>\n",
       "      <th>OID</th>\n",
       "      <th>STATE</th>\n",
       "      <th>geometry</th>\n",
       "    </tr>\n",
       "  </thead>\n",
       "  <tbody>\n",
       "    <tr>\n",
       "      <th>0</th>\n",
       "      <td>Adams County</td>\n",
       "      <td>1226</td>\n",
       "      <td>27553700234319</td>\n",
       "      <td>08</td>\n",
       "      <td>&lt;pysal.cg.shapes.Polygon object at 0x7f6173163...</td>\n",
       "    </tr>\n",
       "    <tr>\n",
       "      <th>1</th>\n",
       "      <td>Arapahoe County</td>\n",
       "      <td>2980</td>\n",
       "      <td>27553703789414</td>\n",
       "      <td>08</td>\n",
       "      <td>&lt;pysal.cg.shapes.Polygon object at 0x7f617096c...</td>\n",
       "    </tr>\n",
       "    <tr>\n",
       "      <th>2</th>\n",
       "      <td>Boulder County</td>\n",
       "      <td>512</td>\n",
       "      <td>27553701435070</td>\n",
       "      <td>08</td>\n",
       "      <td>&lt;pysal.cg.shapes.Polygon object at 0x7f617448c...</td>\n",
       "    </tr>\n",
       "    <tr>\n",
       "      <th>3</th>\n",
       "      <td>Denver County</td>\n",
       "      <td>529</td>\n",
       "      <td>27553700234321</td>\n",
       "      <td>08</td>\n",
       "      <td>&lt;pysal.cg.shapes.Polygon object at 0x7f617448c...</td>\n",
       "    </tr>\n",
       "    <tr>\n",
       "      <th>4</th>\n",
       "      <td>Douglas County</td>\n",
       "      <td>2762</td>\n",
       "      <td>27553711656416</td>\n",
       "      <td>08</td>\n",
       "      <td>&lt;pysal.cg.shapes.Polygon object at 0x7f6173058...</td>\n",
       "    </tr>\n",
       "    <tr>\n",
       "      <th>5</th>\n",
       "      <td>El Paso County</td>\n",
       "      <td>2878</td>\n",
       "      <td>27553704502958</td>\n",
       "      <td>08</td>\n",
       "      <td>&lt;pysal.cg.shapes.Polygon object at 0x7f6171448...</td>\n",
       "    </tr>\n",
       "  </tbody>\n",
       "</table>\n",
       "</div>"
      ],
      "text/plain": [
       "            NAME_y  OBJECTID             OID STATE  \\\n",
       "0     Adams County      1226  27553700234319    08   \n",
       "1  Arapahoe County      2980  27553703789414    08   \n",
       "2   Boulder County       512  27553701435070    08   \n",
       "3    Denver County       529  27553700234321    08   \n",
       "4   Douglas County      2762  27553711656416    08   \n",
       "5   El Paso County      2878  27553704502958    08   \n",
       "\n",
       "                                            geometry  \n",
       "0  <pysal.cg.shapes.Polygon object at 0x7f6173163...  \n",
       "1  <pysal.cg.shapes.Polygon object at 0x7f617096c...  \n",
       "2  <pysal.cg.shapes.Polygon object at 0x7f617448c...  \n",
       "3  <pysal.cg.shapes.Polygon object at 0x7f617448c...  \n",
       "4  <pysal.cg.shapes.Polygon object at 0x7f6173058...  \n",
       "5  <pysal.cg.shapes.Polygon object at 0x7f6171448...  "
      ]
     },
     "execution_count": 16,
     "metadata": {},
     "output_type": "execute_result"
    }
   ],
   "source": [
    "newdata = pd.merge(data, geodata, left_on='county', right_on='COUNTY')\n",
    "newdata.ix[:5, -5:]"
   ]
  },
  {
   "cell_type": "code",
   "execution_count": null,
   "metadata": {
    "collapsed": true
   },
   "outputs": [],
   "source": []
  }
 ],
 "metadata": {
  "kernelspec": {
   "display_name": "Python [default]",
   "language": "python",
   "name": "python3"
  },
  "language_info": {
   "codemirror_mode": {
    "name": "ipython",
    "version": 3
   },
   "file_extension": ".py",
   "mimetype": "text/x-python",
   "name": "python",
   "nbconvert_exporter": "python",
   "pygments_lexer": "ipython3",
   "version": "3.5.2"
  }
 },
 "nbformat": 4,
 "nbformat_minor": 0
}
