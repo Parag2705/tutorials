{
 "cells": [
  {
   "cell_type": "markdown",
   "metadata": {},
   "source": [
    "# SMAP to Raster Tutorial with Python\n",
    "## Objectives\n",
    "    1) Read in SMAP data file (in .h5 format)\n",
    "    2) Extract specified data\n",
    "    3) Create a raster object with respect to this data"
   ]
  },
  {
   "cell_type": "code",
   "execution_count": 1,
   "metadata": {
    "collapsed": false
   },
   "outputs": [
    {
     "name": "stdout",
     "output_type": "stream",
     "text": [
      "Requirement already satisfied (use --upgrade to upgrade): h5py in c:\\users\\matto_000\\anaconda2\\lib\\site-packages\n",
      "Requirement already satisfied (use --upgrade to upgrade): numpy>=1.6.1 in c:\\users\\matto_000\\anaconda2\\lib\\site-packages (from h5py)\n",
      "Requirement already satisfied (use --upgrade to upgrade): six in c:\\users\\matto_000\\anaconda2\\lib\\site-packages (from h5py)\n"
     ]
    },
    {
     "name": "stderr",
     "output_type": "stream",
     "text": [
      "You are using pip version 8.1.1, however version 8.1.2 is available.\n",
      "You should consider upgrading via the 'python -m pip install --upgrade pip' command.\n"
     ]
    }
   ],
   "source": [
    "#Install the h5py package\n",
    "!pip install h5py"
   ]
  },
  {
   "cell_type": "code",
   "execution_count": 2,
   "metadata": {
    "collapsed": false
   },
   "outputs": [
    {
     "name": "stdout",
     "output_type": "stream",
     "text": [
      "Requirement already satisfied (use --upgrade to upgrade): gdal==1.11.2 in c:\\users\\matto_000\\anaconda2\\lib\\site-packages\n"
     ]
    },
    {
     "name": "stderr",
     "output_type": "stream",
     "text": [
      "You are using pip version 8.1.1, however version 8.1.2 is available.\n",
      "You should consider upgrading via the 'python -m pip install --upgrade pip' command.\n"
     ]
    }
   ],
   "source": [
    "#Install the gdal package (version 1.11.2)\n",
    "!pip install gdal==1.11.2"
   ]
  },
  {
   "cell_type": "code",
   "execution_count": 3,
   "metadata": {
    "collapsed": false
   },
   "outputs": [
    {
     "name": "stdout",
     "output_type": "stream",
     "text": [
      "Requirement already up-to-date: numpy in c:\\users\\matto_000\\anaconda2\\lib\\site-packages\n"
     ]
    },
    {
     "name": "stderr",
     "output_type": "stream",
     "text": [
      "You are using pip version 8.1.1, however version 8.1.2 is available.\n",
      "You should consider upgrading via the 'python -m pip install --upgrade pip' command.\n"
     ]
    }
   ],
   "source": [
    "#The installation of gdal downgraded numpy so upgrade it back to it's current release\n",
    "!pip install numpy -U"
   ]
  },
  {
   "cell_type": "markdown",
   "metadata": {},
   "source": [
    "# Step 1: Viewing our data\n",
    "It's going to be necessary for us to see what the data we're trying to work with consists of\n",
    "\n",
    "SMAP files (in .h5 format) consist of 'Groups' and 'Datasets'\n",
    "\n",
    "Datasets are multidimensional arrays of a homogenous type\n",
    "\n",
    "Groups are a container structure which hold numerous datasets\n",
    "\n",
    "Therefore, it's going to be necessary to see which groups and datasets are within our SMAP file"
   ]
  },
  {
   "cell_type": "code",
   "execution_count": null,
   "metadata": {
    "collapsed": false
   },
   "outputs": [
    {
     "name": "stdout",
     "output_type": "stream",
     "text": [
      "The text you're trying to load seems pretty big (140889637 characters). Continue (y/[N]) ? y\n",
      "[u'Geophysical_Data' u'time' u'cell_lat' u'cell_row' u'cell_lon'\n",
      " u'Metadata' u'cell_column']\n"
     ]
    }
   ],
   "source": [
    "#This block of code will print out all of the groups that are within our SMAP file\n",
    "\n",
    "import h5py\n",
    "import numpy as np\n",
    "%load SMAP_data.h5\n",
    "\n",
    "h5file = h5py.File('SMAP_data.h5', 'r') #Replace <Filename> with the name of your h5 file\n",
    "groups = np.array(h5file)\n",
    "print groups"
   ]
  },
  {
   "cell_type": "code",
   "execution_count": 5,
   "metadata": {
    "collapsed": false
   },
   "outputs": [
    {
     "name": "stdout",
     "output_type": "stream",
     "text": [
      "[u'surface_pressure' u'heat_flux_ground' u'land_fraction_wilting'\n",
      " u'soil_temp_layer5' u'sm_rootzone' u'radiation_longwave_absorbed_flux'\n",
      " u'specific_humidity_lowatmmodlay' u'surface_temp' u'temp_lowatmmodlay'\n",
      " u'net_downward_longwave_flux' u'snow_mass'\n",
      " u'precipitation_total_surface_flux' u'sm_surface_wetness'\n",
      " u'sm_profile_wetness' u'snow_depth' u'height_lowatmmodlay'\n",
      " u'baseflow_flux' u'sm_profile_pctl' u'land_fraction_saturated'\n",
      " u'snowfall_surface_flux' u'land_fraction_unsaturated'\n",
      " u'sm_rootzone_wetness' u'leaf_area_index'\n",
      " u'radiation_shortwave_downward_flux' u'sm_surface' u'soil_temp_layer1'\n",
      " u'heat_flux_sensible' u'soil_temp_layer4' u'soil_temp_layer6'\n",
      " u'land_fraction_snow_covered' u'land_evapotranspiration_flux'\n",
      " u'vegetation_greenness_fraction' u'sm_profile' u'soil_temp_layer3'\n",
      " u'overland_runoff_flux' u'snow_melt_flux' u'heat_flux_latent'\n",
      " u'soil_water_infiltration_flux' u'windspeed_lowatmmodlay'\n",
      " u'sm_rootzone_pctl' u'net_downward_shortwave_flux' u'soil_temp_layer2']\n"
     ]
    }
   ],
   "source": [
    "#This block of code will print our all of the datasets within a specific group within our SMAP file\n",
    "#Let's say we have a group called 'Geophysical_Data' that we wish to inspect\n",
    "\n",
    "import h5py\n",
    "import numpy as np\n",
    "\n",
    "h5file = h5py.File('SMAP_data.h5', 'r') #Replace <Filename> with the name of your h5 file\n",
    "group = h5file.get('Geophysical_Data') #Replace Geophysical_Data with the name of the group you want to inspect\n",
    "datasets = np.array(group)\n",
    "print datasets"
   ]
  },
  {
   "cell_type": "markdown",
   "metadata": {},
   "source": [
    "# Step 2: Using our data to create a Raster\n",
    "Now that we've decided which group(s) and dataset(s) we wish to use we need to create a Raster object from the data"
   ]
  },
  {
   "cell_type": "code",
   "execution_count": 6,
   "metadata": {
    "collapsed": false
   },
   "outputs": [],
   "source": [
    "import h5py\n",
    "from osgeo import gdal\n",
    "from osgeo import gdal_array\n",
    "from osgeo import osr\n",
    "import numpy as np\n",
    "\n",
    "#Helper function which handles this conversion\n",
    "def smap2raster(inputFile, group, dataset):\n",
    "    \n",
    "    #Read in the SMAP file in h5 format\n",
    "    h5File = h5py.File(inputFile, 'r')\n",
    "    \n",
    "    #Get the data from the specific group/dataset\n",
    "    data = h5File.get(group + '/' + dataset)\n",
    "    lat = h5File.get('cell_lat')\n",
    "    lon = h5File.get('cell_lon')\n",
    "    \n",
    "    #Convert this data into numpy arrays\n",
    "    np_data = np.array(data)\n",
    "    np_lat = np.array(lat)\n",
    "    np_lon = np.array(lon)\n",
    "    \n",
    "    #Get the spatial extents of the data\n",
    "    num_cols = float(np_data.shape[1])\n",
    "    num_rows = float(np_data.shape[0])\n",
    "    xmin = np_lon.min()\n",
    "    xmax = np_lon.max()\n",
    "    ymin = np_lat.min()\n",
    "    ymax = np_lat.max()\n",
    "    xres = (xmax - xmin)/num_cols\n",
    "    yres = (ymax - ymin)/num_rows\n",
    "    \n",
    "    #Set up the transformation necessary to create the raster\n",
    "    geotransform = (xmin, xres, 0, ymax, 0, -yres)\n",
    "    \n",
    "    #Create the raster object with the proper coordinate encoding and geographic transformation\n",
    "    driver = gdal.GetDriverByName('GTiff')\n",
    "    raster = driver.Create(dataset+'Raster.tif', int(num_cols), int(num_rows), 1, gdal.GDT_Float32)\n",
    "    raster.SetGeoTransform(geotransform)\n",
    "    srs = osr.SpatialReference()\n",
    "    srs.ImportFromEPSG(4326)\n",
    "    \n",
    "    #Export and write the data array to the raster\n",
    "    raster.SetProjection( srs.ExportToWkt() )\n",
    "    raster.GetRasterBand(1).WriteArray(np_data)\n",
    "\n",
    "#Create an array of the datasets we want to use\n",
    "#Replace 'snow_mass' and 'snow_depth' with the datasets you want to use\n",
    "datasets = ['sm_surface_wetness', 'soil_temp_layer2']\n",
    "\n",
    "#Loop through the datasets and create individual rasters from them\n",
    "#Replace <Filename> with your h5 file and Geophysical_Data with the group you want to use\n",
    "for i in range(0, len(datasets)):\n",
    "    smap2raster('SMAP_data.h5', 'Geophysical_Data', datasets[i])"
   ]
  },
  {
   "cell_type": "markdown",
   "metadata": {},
   "source": [
    "# Step 3: Creating a Raster Stack\n",
    "After running the above code, you've now created individual raster images (.tif files); the number of which depends on the amount of datasets you used\n",
    "\n",
    "Now that we have these individual rasters, we want to merge or \"stack\" them on top of each other\n",
    "\n",
    "Fortunately, gdal has a python script which accomplishes just this\n",
    "\n",
    "The result of running this will be a new .tif file called out.tif which is the merging or 'stacking' of the 2 rasters we created in Step 2"
   ]
  },
  {
   "cell_type": "code",
   "execution_count": 7,
   "metadata": {
    "collapsed": true
   },
   "outputs": [],
   "source": [
    "%run gdal_merge.py sm_surface_wetnessRaster.tif soil_temp_layer2Raster.tif"
   ]
  }
 ],
 "metadata": {
  "kernelspec": {
   "display_name": "Python 2",
   "language": "python",
   "name": "python2"
  },
  "language_info": {
   "codemirror_mode": {
    "name": "ipython",
    "version": 2
   },
   "file_extension": ".py",
   "mimetype": "text/x-python",
   "name": "python",
   "nbconvert_exporter": "python",
   "pygments_lexer": "ipython2",
   "version": "2.7.11"
  }
 },
 "nbformat": 4,
 "nbformat_minor": 0
}
