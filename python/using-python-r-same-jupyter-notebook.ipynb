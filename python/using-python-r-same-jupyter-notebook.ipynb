{
 "cells": [
  {
   "cell_type": "markdown",
   "metadata": {},
   "source": [
    "---\n",
    "layout: single\n",
    "title: 'Using R and Python in the same Jupyter notebook'\n",
    "date: 2016-06-28\n",
    "authors: [Matt Oakley]\n",
    "category: [tutorials]\n",
    "excerpt: 'This tutorial shows how to use rpy2 in a Jupyter notebook to run both R and Python.'\n",
    "sidebar:\n",
    "  nav:\n",
    "author_profile: false\n",
    "comments: true\n",
    "lang: [python]\n",
    "---\n",
    "\n",
    "R and Python are both useful to retrieve, analyze, and manipulate data. While these two languages are both individually viable and powerful, sometimes it may be necessary to use the two in conjunction.\n",
    "\n",
    "### Deprecation notice: this tutorial has been deprecated\n",
    "\n",
    "We now recommend using the [reticulate](https://rstudio.github.io/reticulate/) package to combine R and Python code.\n"
   ]
  },
  {
   "cell_type": "code",
   "execution_count": null,
   "metadata": {
    "collapsed": true
   },
   "outputs": [],
   "source": []
  }
 ],
 "metadata": {
  "kernelspec": {
   "display_name": "Python 3",
   "language": "python",
   "name": "python3"
  },
  "language_info": {
   "codemirror_mode": {
    "name": "ipython",
    "version": 3
   },
   "file_extension": ".py",
   "mimetype": "text/x-python",
   "name": "python",
   "nbconvert_exporter": "python",
   "pygments_lexer": "ipython3",
   "version": "3.6.7"
  }
 },
 "nbformat": 4,
 "nbformat_minor": 1
}
